{
 "cells": [
  {
   "cell_type": "markdown",
   "id": "4b322ac1",
   "metadata": {},
   "source": [
    "# Feature Engineering And Model Training"
   ]
  },
  {
   "cell_type": "markdown",
   "id": "85e9d101",
   "metadata": {},
   "source": [
    "## 1. Importing Cleaned Data"
   ]
  },
  {
   "cell_type": "code",
   "execution_count": 72,
   "id": "7e4db16d",
   "metadata": {},
   "outputs": [],
   "source": [
    "import pandas as pd\n",
    "import numpy as np\n",
    "import matplotlib.pyplot as plt\n",
    "import seaborn as sns"
   ]
  },
  {
   "cell_type": "code",
   "execution_count": 73,
   "id": "b44204b2",
   "metadata": {},
   "outputs": [],
   "source": [
    "df = pd.read_csv(\"clean_data.csv\")"
   ]
  },
  {
   "cell_type": "code",
   "execution_count": 74,
   "id": "c6ec1bc4",
   "metadata": {},
   "outputs": [
    {
     "name": "stdout",
     "output_type": "stream",
     "text": [
      "<class 'pandas.core.frame.DataFrame'>\n",
      "RangeIndex: 106159 entries, 0 to 106158\n",
      "Data columns (total 59 columns):\n",
      " #   Column                              Non-Null Count   Dtype  \n",
      "---  ------                              --------------   -----  \n",
      " 0   EstimatedEffectiveYield             106159 non-null  float64\n",
      " 1   EstimatedLoss                       106159 non-null  float64\n",
      " 2   EstimatedReturn                     106159 non-null  float64\n",
      " 3   ProsperRating (numeric)             106159 non-null  float64\n",
      " 4   ProsperScore                        106159 non-null  float64\n",
      " 5   Term                                106159 non-null  int64  \n",
      " 6   LoanStatus                          106159 non-null  object \n",
      " 7   BorrowerRate                        106159 non-null  float64\n",
      " 8   LenderYield                         106159 non-null  float64\n",
      " 9   ProsperRating (Alpha)               106159 non-null  object \n",
      " 10  ListingCategory (numeric)           106159 non-null  int64  \n",
      " 11  IsBorrowerHomeowner                 106159 non-null  bool   \n",
      " 12  CurrentlyInGroup                    106159 non-null  bool   \n",
      " 13  OpenRevolvingAccounts               106159 non-null  int64  \n",
      " 14  OpenRevolvingMonthlyPayment         106159 non-null  float64\n",
      " 15  IncomeRange                         106159 non-null  object \n",
      " 16  IncomeVerifiable                    106159 non-null  bool   \n",
      " 17  StatedMonthlyIncome                 106159 non-null  float64\n",
      " 18  LoanCurrentDaysDelinquent           106159 non-null  int64  \n",
      " 19  LoanMonthsSinceOrigination          106159 non-null  int64  \n",
      " 20  LoanOriginalAmount                  106159 non-null  int64  \n",
      " 21  MonthlyLoanPayment                  106159 non-null  float64\n",
      " 22  LP_CustomerPayments                 106159 non-null  float64\n",
      " 23  LP_CustomerPrincipalPayments        106159 non-null  float64\n",
      " 24  LP_InterestandFees                  106159 non-null  float64\n",
      " 25  LP_ServiceFees                      106159 non-null  float64\n",
      " 26  LP_CollectionFees                   106159 non-null  float64\n",
      " 27  LP_GrossPrincipalLoss               106159 non-null  float64\n",
      " 28  LP_NetPrincipalLoss                 106159 non-null  float64\n",
      " 29  LP_NonPrincipalRecoverypayments     106159 non-null  float64\n",
      " 30  PercentFunded                       106159 non-null  float64\n",
      " 31  Recommendations                     106159 non-null  int64  \n",
      " 32  InvestmentFromFriendsCount          106159 non-null  int64  \n",
      " 33  InvestmentFromFriendsAmount         106159 non-null  float64\n",
      " 34  Investors                           106159 non-null  int64  \n",
      " 35  BorrowerAPR                         106159 non-null  float64\n",
      " 36  BorrowerState                       106159 non-null  object \n",
      " 37  Occupation                          106159 non-null  object \n",
      " 38  EmploymentStatus                    106159 non-null  object \n",
      " 39  CreditScoreRangeLower               106159 non-null  float64\n",
      " 40  CreditScoreRangeUpper               106159 non-null  float64\n",
      " 41  TotalCreditLinespast7years          106159 non-null  float64\n",
      " 42  InquiriesLast6Months                106159 non-null  float64\n",
      " 43  TotalInquiries                      106159 non-null  float64\n",
      " 44  CurrentDelinquencies                106159 non-null  float64\n",
      " 45  DelinquenciesLast7Years             106159 non-null  float64\n",
      " 46  PublicRecordsLast10Years            106159 non-null  float64\n",
      " 47  EmploymentStatusDuration            106159 non-null  float64\n",
      " 48  CurrentCreditLines                  106159 non-null  float64\n",
      " 49  OpenCreditLines                     106159 non-null  float64\n",
      " 50  AmountDelinquent                    106159 non-null  float64\n",
      " 51  PublicRecordsLast12Months           106159 non-null  float64\n",
      " 52  RevolvingCreditBalance              106159 non-null  float64\n",
      " 53  BankcardUtilization                 106159 non-null  float64\n",
      " 54  AvailableBankcardCredit             106159 non-null  float64\n",
      " 55  TotalTrades                         106159 non-null  float64\n",
      " 56  TradesNeverDelinquent (percentage)  106159 non-null  float64\n",
      " 57  TradesOpenedLast6Months             106159 non-null  float64\n",
      " 58  DebtToIncomeRatio                   106159 non-null  float64\n",
      "dtypes: bool(3), float64(41), int64(9), object(6)\n",
      "memory usage: 45.7+ MB\n"
     ]
    }
   ],
   "source": [
    "df.info()"
   ]
  },
  {
   "cell_type": "code",
   "execution_count": 75,
   "id": "27d3cdca",
   "metadata": {},
   "outputs": [
    {
     "data": {
      "text/html": [
       "<div>\n",
       "<style scoped>\n",
       "    .dataframe tbody tr th:only-of-type {\n",
       "        vertical-align: middle;\n",
       "    }\n",
       "\n",
       "    .dataframe tbody tr th {\n",
       "        vertical-align: top;\n",
       "    }\n",
       "\n",
       "    .dataframe thead th {\n",
       "        text-align: right;\n",
       "    }\n",
       "</style>\n",
       "<table border=\"1\" class=\"dataframe\">\n",
       "  <thead>\n",
       "    <tr style=\"text-align: right;\">\n",
       "      <th></th>\n",
       "      <th>EstimatedEffectiveYield</th>\n",
       "      <th>EstimatedLoss</th>\n",
       "      <th>EstimatedReturn</th>\n",
       "      <th>ProsperRating (numeric)</th>\n",
       "      <th>ProsperScore</th>\n",
       "      <th>Term</th>\n",
       "      <th>LoanStatus</th>\n",
       "      <th>BorrowerRate</th>\n",
       "      <th>LenderYield</th>\n",
       "      <th>ProsperRating (Alpha)</th>\n",
       "      <th>...</th>\n",
       "      <th>OpenCreditLines</th>\n",
       "      <th>AmountDelinquent</th>\n",
       "      <th>PublicRecordsLast12Months</th>\n",
       "      <th>RevolvingCreditBalance</th>\n",
       "      <th>BankcardUtilization</th>\n",
       "      <th>AvailableBankcardCredit</th>\n",
       "      <th>TotalTrades</th>\n",
       "      <th>TradesNeverDelinquent (percentage)</th>\n",
       "      <th>TradesOpenedLast6Months</th>\n",
       "      <th>DebtToIncomeRatio</th>\n",
       "    </tr>\n",
       "  </thead>\n",
       "  <tbody>\n",
       "    <tr>\n",
       "      <th>0</th>\n",
       "      <td>0.168661</td>\n",
       "      <td>0.080306</td>\n",
       "      <td>0.096068</td>\n",
       "      <td>4.072243</td>\n",
       "      <td>5.950067</td>\n",
       "      <td>36</td>\n",
       "      <td>Completed</td>\n",
       "      <td>0.1580</td>\n",
       "      <td>0.1380</td>\n",
       "      <td>Missing</td>\n",
       "      <td>...</td>\n",
       "      <td>4.000000</td>\n",
       "      <td>472.000000</td>\n",
       "      <td>0.000000</td>\n",
       "      <td>0.000000</td>\n",
       "      <td>0.000000</td>\n",
       "      <td>1500.000000</td>\n",
       "      <td>11.000000</td>\n",
       "      <td>0.810000</td>\n",
       "      <td>0.000000</td>\n",
       "      <td>0.17</td>\n",
       "    </tr>\n",
       "    <tr>\n",
       "      <th>1</th>\n",
       "      <td>0.079600</td>\n",
       "      <td>0.024900</td>\n",
       "      <td>0.054700</td>\n",
       "      <td>6.000000</td>\n",
       "      <td>7.000000</td>\n",
       "      <td>36</td>\n",
       "      <td>Current</td>\n",
       "      <td>0.0920</td>\n",
       "      <td>0.0820</td>\n",
       "      <td>A</td>\n",
       "      <td>...</td>\n",
       "      <td>14.000000</td>\n",
       "      <td>0.000000</td>\n",
       "      <td>0.000000</td>\n",
       "      <td>3989.000000</td>\n",
       "      <td>0.210000</td>\n",
       "      <td>10266.000000</td>\n",
       "      <td>29.000000</td>\n",
       "      <td>1.000000</td>\n",
       "      <td>2.000000</td>\n",
       "      <td>0.18</td>\n",
       "    </tr>\n",
       "    <tr>\n",
       "      <th>2</th>\n",
       "      <td>0.168661</td>\n",
       "      <td>0.080306</td>\n",
       "      <td>0.096068</td>\n",
       "      <td>4.072243</td>\n",
       "      <td>5.950067</td>\n",
       "      <td>36</td>\n",
       "      <td>Completed</td>\n",
       "      <td>0.2750</td>\n",
       "      <td>0.2400</td>\n",
       "      <td>Missing</td>\n",
       "      <td>...</td>\n",
       "      <td>9.260164</td>\n",
       "      <td>984.507059</td>\n",
       "      <td>0.015094</td>\n",
       "      <td>17598.706751</td>\n",
       "      <td>0.561309</td>\n",
       "      <td>11210.225447</td>\n",
       "      <td>23.230034</td>\n",
       "      <td>0.885897</td>\n",
       "      <td>0.802327</td>\n",
       "      <td>0.06</td>\n",
       "    </tr>\n",
       "    <tr>\n",
       "      <th>3</th>\n",
       "      <td>0.084900</td>\n",
       "      <td>0.024900</td>\n",
       "      <td>0.060000</td>\n",
       "      <td>6.000000</td>\n",
       "      <td>9.000000</td>\n",
       "      <td>36</td>\n",
       "      <td>Current</td>\n",
       "      <td>0.0974</td>\n",
       "      <td>0.0874</td>\n",
       "      <td>A</td>\n",
       "      <td>...</td>\n",
       "      <td>5.000000</td>\n",
       "      <td>10056.000000</td>\n",
       "      <td>0.000000</td>\n",
       "      <td>1444.000000</td>\n",
       "      <td>0.040000</td>\n",
       "      <td>30754.000000</td>\n",
       "      <td>26.000000</td>\n",
       "      <td>0.760000</td>\n",
       "      <td>0.000000</td>\n",
       "      <td>0.15</td>\n",
       "    </tr>\n",
       "    <tr>\n",
       "      <th>4</th>\n",
       "      <td>0.183160</td>\n",
       "      <td>0.092500</td>\n",
       "      <td>0.090660</td>\n",
       "      <td>3.000000</td>\n",
       "      <td>4.000000</td>\n",
       "      <td>36</td>\n",
       "      <td>Current</td>\n",
       "      <td>0.2085</td>\n",
       "      <td>0.1985</td>\n",
       "      <td>D</td>\n",
       "      <td>...</td>\n",
       "      <td>19.000000</td>\n",
       "      <td>0.000000</td>\n",
       "      <td>0.000000</td>\n",
       "      <td>6193.000000</td>\n",
       "      <td>0.810000</td>\n",
       "      <td>695.000000</td>\n",
       "      <td>39.000000</td>\n",
       "      <td>0.950000</td>\n",
       "      <td>2.000000</td>\n",
       "      <td>0.26</td>\n",
       "    </tr>\n",
       "  </tbody>\n",
       "</table>\n",
       "<p>5 rows × 59 columns</p>\n",
       "</div>"
      ],
      "text/plain": [
       "   EstimatedEffectiveYield  EstimatedLoss  EstimatedReturn  \\\n",
       "0                 0.168661       0.080306         0.096068   \n",
       "1                 0.079600       0.024900         0.054700   \n",
       "2                 0.168661       0.080306         0.096068   \n",
       "3                 0.084900       0.024900         0.060000   \n",
       "4                 0.183160       0.092500         0.090660   \n",
       "\n",
       "   ProsperRating (numeric)  ProsperScore  Term LoanStatus  BorrowerRate  \\\n",
       "0                 4.072243      5.950067    36  Completed        0.1580   \n",
       "1                 6.000000      7.000000    36    Current        0.0920   \n",
       "2                 4.072243      5.950067    36  Completed        0.2750   \n",
       "3                 6.000000      9.000000    36    Current        0.0974   \n",
       "4                 3.000000      4.000000    36    Current        0.2085   \n",
       "\n",
       "   LenderYield ProsperRating (Alpha)  ...  OpenCreditLines  AmountDelinquent  \\\n",
       "0       0.1380               Missing  ...         4.000000        472.000000   \n",
       "1       0.0820                     A  ...        14.000000          0.000000   \n",
       "2       0.2400               Missing  ...         9.260164        984.507059   \n",
       "3       0.0874                     A  ...         5.000000      10056.000000   \n",
       "4       0.1985                     D  ...        19.000000          0.000000   \n",
       "\n",
       "   PublicRecordsLast12Months  RevolvingCreditBalance  BankcardUtilization  \\\n",
       "0                   0.000000                0.000000             0.000000   \n",
       "1                   0.000000             3989.000000             0.210000   \n",
       "2                   0.015094            17598.706751             0.561309   \n",
       "3                   0.000000             1444.000000             0.040000   \n",
       "4                   0.000000             6193.000000             0.810000   \n",
       "\n",
       "  AvailableBankcardCredit  TotalTrades  TradesNeverDelinquent (percentage)  \\\n",
       "0             1500.000000    11.000000                            0.810000   \n",
       "1            10266.000000    29.000000                            1.000000   \n",
       "2            11210.225447    23.230034                            0.885897   \n",
       "3            30754.000000    26.000000                            0.760000   \n",
       "4              695.000000    39.000000                            0.950000   \n",
       "\n",
       "   TradesOpenedLast6Months  DebtToIncomeRatio  \n",
       "0                 0.000000               0.17  \n",
       "1                 2.000000               0.18  \n",
       "2                 0.802327               0.06  \n",
       "3                 0.000000               0.15  \n",
       "4                 2.000000               0.26  \n",
       "\n",
       "[5 rows x 59 columns]"
      ]
     },
     "execution_count": 75,
     "metadata": {},
     "output_type": "execute_result"
    }
   ],
   "source": [
    "df.head()"
   ]
  },
  {
   "cell_type": "markdown",
   "id": "6b3e029b",
   "metadata": {},
   "source": [
    "## 2. Creating EMI variable"
   ]
  },
  {
   "cell_type": "code",
   "execution_count": 76,
   "id": "eb86ba2f",
   "metadata": {},
   "outputs": [],
   "source": [
    "P = df['LP_CustomerPrincipalPayments']\n",
    "n = df['Term']\n",
    "r = df['BorrowerRate']"
   ]
  },
  {
   "cell_type": "code",
   "execution_count": 77,
   "id": "2e1e8410",
   "metadata": {},
   "outputs": [],
   "source": [
    "def cal_EMI(P,r,n):\n",
    "    P = P.values\n",
    "    r = r.values\n",
    "    n = n.values\n",
    "    result1 = np.empty(0)\n",
    "    result2 = np.empty(0)\n",
    "    result = np.empty(0)\n",
    "    for i in range(P.shape[0]):\n",
    "        result1 = np.append(result1, P[i]*r[i]*np.power((1+r[i]),n[i]))\n",
    "        result2 = np.append(result2, np.power((1+r[i]),n[i])-1)\n",
    "        result = np.append(result,(result1[i]/result2[i]))\n",
    "    df['EMI'] = result\n",
    "    return result"
   ]
  },
  {
   "cell_type": "code",
   "execution_count": 78,
   "id": "27688c15",
   "metadata": {},
   "outputs": [
    {
     "name": "stderr",
     "output_type": "stream",
     "text": [
      "<ipython-input-77-7c165ed56021>:11: RuntimeWarning: invalid value encountered in double_scalars\n",
      "  result = np.append(result,(result1[i]/result2[i]))\n"
     ]
    },
    {
     "data": {
      "text/plain": [
       "106159"
      ]
     },
     "execution_count": 78,
     "metadata": {},
     "output_type": "execute_result"
    }
   ],
   "source": [
    "cal_EMI(P,r,n).size"
   ]
  },
  {
   "cell_type": "code",
   "execution_count": 83,
   "id": "544e78de",
   "metadata": {},
   "outputs": [],
   "source": [
    "A = df['LoanOriginalAmount']\n",
    "N = df['Term']\n",
    "R = df['BorrowerRate']\n",
    "I = df['StatedMonthlyIncome']\n",
    "L = df['LoanStatus']"
   ]
  },
  {
   "cell_type": "code",
   "execution_count": 80,
   "id": "c1d93a30",
   "metadata": {},
   "outputs": [],
   "source": [
    "df['LoanStatus']=(df['LoanStatus']=='Completed').astype(int)\n",
    "df.fillna(0,inplace=True)"
   ]
  },
  {
   "cell_type": "code",
   "execution_count": 84,
   "id": "db75a65a",
   "metadata": {},
   "outputs": [],
   "source": [
    "def cal_risk(A,R,N,I,L):\n",
    "    A = A.values\n",
    "    R = R.values\n",
    "    N = N.values\n",
    "    I = I.values\n",
    "    L = L.values\n",
    "    Total_payment_due = np.empty(0)\n",
    "    Max_allowed_amount = np.empty(0)\n",
    "    Risk = np.empty(0)\n",
    "    ELA = np.empty(0)\n",
    "    for i in range(A.shape[0]):\n",
    "        Total_payment_due = np.append(Total_payment_due,(A[i]+(A[i]*R[i])*N[i]))\n",
    "        Max_allowed_amount = np.append(Max_allowed_amount,(I[i]*12*30)/100)\n",
    "        if(Total_payment_due[i]<=Max_allowed_amount[i]):\n",
    "            ELA = np.append(ELA,A[i])\n",
    "        else:\n",
    "            ELA = np.append(ELA,Max_allowed_amount[i])\n",
    "        if(Max_allowed_amount[i]<Total_payment_due[i] and L[i]==1):\n",
    "            Risk = np.append(Risk,2)\n",
    "        elif(Max_allowed_amount[i]<Total_payment_due[i] and L[i]==0):\n",
    "            Risk = np.append(Risk,4)\n",
    "        elif(Max_allowed_amount[i]>Total_payment_due[i] and L[i]==1):\n",
    "            Risk = np.append(Risk,1)\n",
    "        elif(Max_allowed_amount[i]>Total_payment_due[i] and L[i]==0):\n",
    "            Risk = np.append(Risk,3)\n",
    "        elif(Max_allowed_amount[i]==Total_payment_due[i] and L[i]==1):\n",
    "            Risk = np.append(Risk,2)\n",
    "        elif(Max_allowed_amount[i]==Total_payment_due[i] and L[i]==0):\n",
    "            Risk = np.append(Risk,3)\n",
    "    df['Riskk'] = Risk\n",
    "    return Risk"
   ]
  },
  {
   "cell_type": "code",
   "execution_count": 85,
   "id": "98b1ca52",
   "metadata": {},
   "outputs": [
    {
     "data": {
      "text/plain": [
       "106159"
      ]
     },
     "execution_count": 85,
     "metadata": {},
     "output_type": "execute_result"
    }
   ],
   "source": [
    "cal_risk(A,R,N,I,L).size"
   ]
  },
  {
   "cell_type": "markdown",
   "id": "faf6fc12",
   "metadata": {},
   "source": [
    "## 3. Creating ELA variable"
   ]
  },
  {
   "cell_type": "code",
   "execution_count": 86,
   "id": "3deebd3e",
   "metadata": {},
   "outputs": [],
   "source": [
    "A = df['LoanOriginalAmount']\n",
    "N = df['Term']\n",
    "R = df['BorrowerRate']\n",
    "I = df['StatedMonthlyIncome']\n",
    "L = df['LoanStatus']"
   ]
  },
  {
   "cell_type": "code",
   "execution_count": 87,
   "id": "84682e44",
   "metadata": {},
   "outputs": [],
   "source": [
    "def cal_ELA(A,N,R,I):\n",
    "    A = A.values\n",
    "    R = R.values\n",
    "    N = N.values\n",
    "    I = I.values\n",
    "    Total_payment_due = np.empty(0)\n",
    "    Max_allowed_amount = np.empty(0)\n",
    "    ELA = np.empty(0)\n",
    "    for i in range(A.shape[0]):\n",
    "        Total_payment_due = np.append(Total_payment_due,(A[i]+(A[i]*R[i]))*N[i])\n",
    "        Max_allowed_amount = np.append(Max_allowed_amount,(I[i]*12*30)/100)\n",
    "        if(Total_payment_due[i]<=Max_allowed_amount[i]):\n",
    "            ELA = np.append(ELA,A[i])\n",
    "        else:\n",
    "            ELA = np.append(ELA,Max_allowed_amount[i])\n",
    "    df['ELA'] = ELA\n",
    "    return ELA"
   ]
  },
  {
   "cell_type": "code",
   "execution_count": 88,
   "id": "b110aa6e",
   "metadata": {},
   "outputs": [
    {
     "data": {
      "text/plain": [
       "106159"
      ]
     },
     "execution_count": 88,
     "metadata": {},
     "output_type": "execute_result"
    }
   ],
   "source": [
    "cal_ELA(A,N,R,I).size"
   ]
  },
  {
   "cell_type": "markdown",
   "id": "103c7529",
   "metadata": {},
   "source": [
    "## 4. Creating PROI variable"
   ]
  },
  {
   "cell_type": "code",
   "execution_count": 90,
   "id": "27efe0a1",
   "metadata": {},
   "outputs": [],
   "source": [
    "temp = pd.read_csv('C:/Users/atharv/Downloads/EMail/prosperLoanData.csv')\n",
    "temp['CreditGrade'].fillna(\"UN\",inplace = True)\n",
    "credit = temp['CreditGrade']\n",
    "df['CreditGrade'] = credit"
   ]
  },
  {
   "cell_type": "code",
   "execution_count": 91,
   "id": "bb52f11b",
   "metadata": {},
   "outputs": [],
   "source": [
    "def cal_PROI(df,credit):\n",
    "    df['InterestAmount'] = (df['LoanOriginalAmount']*df['BorrowerRate'])\n",
    "    df['TotalAmount'] = (df['InterestAmount']+df['LoanOriginalAmount'])\n",
    "    df['ROI'] = (df['InterestAmount']/df['TotalAmount'])\n",
    "    \n",
    "    df['PROI'] = df['ROI'].median()\n",
    "    \n",
    "    for i in range(df.shape[0]):\n",
    "        if df['CreditGrade'][i] == 'E':\n",
    "            df['PROI'].iloc[i] = df['PROI'].iloc[i] + 0.05\n",
    "        elif df['CreditGrade'][i] == 'HR':\n",
    "            df['PROI'].iloc[i] = df['PROI'].iloc[i] + 0.05\n",
    "        elif df['CreditGrade'][i] == 'A':\n",
    "            df['PROI'].iloc[i] = df['PROI'].iloc[i] - 0.05\n",
    "        elif df['CreditGrade'][i] == 'AA':\n",
    "            df['PROI'].iloc[i] = df['PROI'].iloc[i] - 0.1\n",
    "        \n",
    "        if(df['TradesNeverDelinquent (percentage)'].iloc[i])<0.7:\n",
    "            df['PROI'].iloc[i] = df['PROI'].iloc[i] + 0.05\n",
    "        \n",
    "        if(df['AvailableBankcardCredit'].iloc[i])<=800.0:\n",
    "            df['PROI'].iloc[i] = df['PROI'].iloc[i] + 0.05\n",
    "        elif (df['AvailableBankcardCredit'].iloc[i])>=16500:\n",
    "            df['PROI'].iloc[i] = df['PROI'].iloc[i] - 0.05\n",
    "     \n",
    "        if(df['TotalInquiries'].iloc[i])>28:\n",
    "            df['PROI'].iloc[i] = df['PROI'].iloc[i] + 0.1\n",
    "        elif (df['TotalInquiries'].iloc[i])>12:\n",
    "            df['PROI'].iloc[i] = df['PROI'].iloc[i] + 0.05\n",
    "        \n",
    "    return df['PROI'].values\n",
    "        "
   ]
  },
  {
   "cell_type": "code",
   "execution_count": 92,
   "id": "4ee192b7",
   "metadata": {},
   "outputs": [
    {
     "name": "stderr",
     "output_type": "stream",
     "text": [
      "c:\\users\\atharv\\appdata\\local\\programs\\python\\python39\\lib\\site-packages\\pandas\\core\\indexing.py:1732: SettingWithCopyWarning: \n",
      "A value is trying to be set on a copy of a slice from a DataFrame\n",
      "\n",
      "See the caveats in the documentation: https://pandas.pydata.org/pandas-docs/stable/user_guide/indexing.html#returning-a-view-versus-a-copy\n",
      "  self._setitem_single_block(indexer, value, name)\n"
     ]
    },
    {
     "data": {
      "text/plain": [
       "106159"
      ]
     },
     "execution_count": 92,
     "metadata": {},
     "output_type": "execute_result"
    }
   ],
   "source": [
    "cal_PROI(df,credit).size"
   ]
  },
  {
   "cell_type": "code",
   "execution_count": 93,
   "id": "a3629eaa",
   "metadata": {},
   "outputs": [
    {
     "name": "stdout",
     "output_type": "stream",
     "text": [
      "<class 'pandas.core.frame.DataFrame'>\n",
      "RangeIndex: 106159 entries, 0 to 106158\n",
      "Data columns (total 67 columns):\n",
      " #   Column                              Non-Null Count   Dtype  \n",
      "---  ------                              --------------   -----  \n",
      " 0   EstimatedEffectiveYield             106159 non-null  float64\n",
      " 1   EstimatedLoss                       106159 non-null  float64\n",
      " 2   EstimatedReturn                     106159 non-null  float64\n",
      " 3   ProsperRating (numeric)             106159 non-null  float64\n",
      " 4   ProsperScore                        106159 non-null  float64\n",
      " 5   Term                                106159 non-null  int64  \n",
      " 6   LoanStatus                          106159 non-null  int32  \n",
      " 7   BorrowerRate                        106159 non-null  float64\n",
      " 8   LenderYield                         106159 non-null  float64\n",
      " 9   ProsperRating (Alpha)               106159 non-null  object \n",
      " 10  ListingCategory (numeric)           106159 non-null  int64  \n",
      " 11  IsBorrowerHomeowner                 106159 non-null  bool   \n",
      " 12  CurrentlyInGroup                    106159 non-null  bool   \n",
      " 13  OpenRevolvingAccounts               106159 non-null  int64  \n",
      " 14  OpenRevolvingMonthlyPayment         106159 non-null  float64\n",
      " 15  IncomeRange                         106159 non-null  object \n",
      " 16  IncomeVerifiable                    106159 non-null  bool   \n",
      " 17  StatedMonthlyIncome                 106159 non-null  float64\n",
      " 18  LoanCurrentDaysDelinquent           106159 non-null  int64  \n",
      " 19  LoanMonthsSinceOrigination          106159 non-null  int64  \n",
      " 20  LoanOriginalAmount                  106159 non-null  int64  \n",
      " 21  MonthlyLoanPayment                  106159 non-null  float64\n",
      " 22  LP_CustomerPayments                 106159 non-null  float64\n",
      " 23  LP_CustomerPrincipalPayments        106159 non-null  float64\n",
      " 24  LP_InterestandFees                  106159 non-null  float64\n",
      " 25  LP_ServiceFees                      106159 non-null  float64\n",
      " 26  LP_CollectionFees                   106159 non-null  float64\n",
      " 27  LP_GrossPrincipalLoss               106159 non-null  float64\n",
      " 28  LP_NetPrincipalLoss                 106159 non-null  float64\n",
      " 29  LP_NonPrincipalRecoverypayments     106159 non-null  float64\n",
      " 30  PercentFunded                       106159 non-null  float64\n",
      " 31  Recommendations                     106159 non-null  int64  \n",
      " 32  InvestmentFromFriendsCount          106159 non-null  int64  \n",
      " 33  InvestmentFromFriendsAmount         106159 non-null  float64\n",
      " 34  Investors                           106159 non-null  int64  \n",
      " 35  BorrowerAPR                         106159 non-null  float64\n",
      " 36  BorrowerState                       106159 non-null  object \n",
      " 37  Occupation                          106159 non-null  object \n",
      " 38  EmploymentStatus                    106159 non-null  object \n",
      " 39  CreditScoreRangeLower               106159 non-null  float64\n",
      " 40  CreditScoreRangeUpper               106159 non-null  float64\n",
      " 41  TotalCreditLinespast7years          106159 non-null  float64\n",
      " 42  InquiriesLast6Months                106159 non-null  float64\n",
      " 43  TotalInquiries                      106159 non-null  float64\n",
      " 44  CurrentDelinquencies                106159 non-null  float64\n",
      " 45  DelinquenciesLast7Years             106159 non-null  float64\n",
      " 46  PublicRecordsLast10Years            106159 non-null  float64\n",
      " 47  EmploymentStatusDuration            106159 non-null  float64\n",
      " 48  CurrentCreditLines                  106159 non-null  float64\n",
      " 49  OpenCreditLines                     106159 non-null  float64\n",
      " 50  AmountDelinquent                    106159 non-null  float64\n",
      " 51  PublicRecordsLast12Months           106159 non-null  float64\n",
      " 52  RevolvingCreditBalance              106159 non-null  float64\n",
      " 53  BankcardUtilization                 106159 non-null  float64\n",
      " 54  AvailableBankcardCredit             106159 non-null  float64\n",
      " 55  TotalTrades                         106159 non-null  float64\n",
      " 56  TradesNeverDelinquent (percentage)  106159 non-null  float64\n",
      " 57  TradesOpenedLast6Months             106159 non-null  float64\n",
      " 58  DebtToIncomeRatio                   106159 non-null  float64\n",
      " 59  EMI                                 106159 non-null  float64\n",
      " 60  Riskk                               106159 non-null  float64\n",
      " 61  ELA                                 106159 non-null  float64\n",
      " 62  CreditGrade                         106159 non-null  object \n",
      " 63  InterestAmount                      106159 non-null  float64\n",
      " 64  TotalAmount                         106159 non-null  float64\n",
      " 65  ROI                                 106159 non-null  float64\n",
      " 66  PROI                                106159 non-null  float64\n",
      "dtypes: bool(3), float64(48), int32(1), int64(9), object(6)\n",
      "memory usage: 51.7+ MB\n"
     ]
    }
   ],
   "source": [
    "df.info()"
   ]
  },
  {
   "cell_type": "code",
   "execution_count": 94,
   "id": "aca713c1",
   "metadata": {},
   "outputs": [],
   "source": [
    "df.drop(['TotalAmount','InterestAmount','ROI'],axis=1,inplace=True)"
   ]
  },
  {
   "cell_type": "code",
   "execution_count": 97,
   "id": "cda1bfc0",
   "metadata": {},
   "outputs": [],
   "source": [
    "df.drop(['LP_NonPrincipalRecoverypayments','PercentFunded','InvestmentFromFriendsCount','InvestmentFromFriendsAmount','TradesOpenedLast6Months','InquiriesLast6Months'],axis =1,inplace=True)"
   ]
  },
  {
   "cell_type": "code",
   "execution_count": 98,
   "id": "addb4655",
   "metadata": {},
   "outputs": [],
   "source": [
    "df.drop(['EstimatedEffectiveYield','EstimatedLoss','EstimatedReturn','LenderYield','LoanStatus'],axis=1,inplace=True)"
   ]
  },
  {
   "cell_type": "code",
   "execution_count": 99,
   "id": "734945b1",
   "metadata": {},
   "outputs": [],
   "source": [
    "df['IsBorrowerHomeowner'] = (df['IsBorrowerHomeowner']==True).astype(int)\n",
    "df['CurrentlyInGroup'] = (df['CurrentlyInGroup']==True).astype(int)\n",
    "df['IncomeVerifiable'] = (df['IncomeVerifiable']==True).astype(int)"
   ]
  },
  {
   "cell_type": "code",
   "execution_count": 106,
   "id": "35abc9d8",
   "metadata": {},
   "outputs": [],
   "source": [
    "df.drop(['Recommendations','PublicRecordsLast12Months','LoanMonthsSinceOrigination','LoanCurrentDaysDelinquent','TotalTrades'],axis=1,inplace=True)"
   ]
  },
  {
   "cell_type": "code",
   "execution_count": 109,
   "id": "122b4811",
   "metadata": {},
   "outputs": [],
   "source": [
    "df.drop(['MonthlyLoanPayment','LP_CustomerPayments','LP_InterestandFees','LP_ServiceFees','LP_GrossPrincipalLoss','LP_NetPrincipalLoss','LP_CollectionFees'],axis =1, inplace=True)"
   ]
  },
  {
   "cell_type": "code",
   "execution_count": 113,
   "id": "2d24969f",
   "metadata": {},
   "outputs": [],
   "source": [
    "df.to_csv('tf_data.csv',index=False)"
   ]
  },
  {
   "cell_type": "code",
   "execution_count": 114,
   "id": "19d072e9",
   "metadata": {},
   "outputs": [],
   "source": [
    "y = df[['EMI','ELA','PROI','Riskk']]\n",
    "df.drop(['EMI','ELA','PROI','Riskk'],axis=1,inplace=True)"
   ]
  },
  {
   "cell_type": "markdown",
   "id": "348b372a",
   "metadata": {},
   "source": [
    "## 5. Categorical/Label Encoding"
   ]
  },
  {
   "cell_type": "code",
   "execution_count": 35,
   "id": "66e5ec9f",
   "metadata": {},
   "outputs": [],
   "source": [
    "categorical_columns = df.select_dtypes(include=[\"object\"]).columns.values\n",
    "category_columns=df[categorical_columns]"
   ]
  },
  {
   "cell_type": "code",
   "execution_count": 36,
   "id": "b04f5e71",
   "metadata": {},
   "outputs": [],
   "source": [
    "#one hot encoding\n",
    "from sklearn.preprocessing import OneHotEncoder\n",
    "ohe = OneHotEncoder(drop='first')\n",
    "enc=ohe.fit_transform(category_columns[['CreditGrade','BorrowerState','Occupation','EmploymentStatus']]).toarray()"
   ]
  },
  {
   "cell_type": "code",
   "execution_count": 37,
   "id": "32351f27",
   "metadata": {},
   "outputs": [],
   "source": [
    "Nominal_encoding=pd.DataFrame(enc)"
   ]
  },
  {
   "cell_type": "code",
   "execution_count": 38,
   "id": "db42b40f",
   "metadata": {},
   "outputs": [
    {
     "data": {
      "text/html": [
       "<style>#sk-container-id-1 {color: black;background-color: white;}#sk-container-id-1 pre{padding: 0;}#sk-container-id-1 div.sk-toggleable {background-color: white;}#sk-container-id-1 label.sk-toggleable__label {cursor: pointer;display: block;width: 100%;margin-bottom: 0;padding: 0.3em;box-sizing: border-box;text-align: center;}#sk-container-id-1 label.sk-toggleable__label-arrow:before {content: \"▸\";float: left;margin-right: 0.25em;color: #696969;}#sk-container-id-1 label.sk-toggleable__label-arrow:hover:before {color: black;}#sk-container-id-1 div.sk-estimator:hover label.sk-toggleable__label-arrow:before {color: black;}#sk-container-id-1 div.sk-toggleable__content {max-height: 0;max-width: 0;overflow: hidden;text-align: left;background-color: #f0f8ff;}#sk-container-id-1 div.sk-toggleable__content pre {margin: 0.2em;color: black;border-radius: 0.25em;background-color: #f0f8ff;}#sk-container-id-1 input.sk-toggleable__control:checked~div.sk-toggleable__content {max-height: 200px;max-width: 100%;overflow: auto;}#sk-container-id-1 input.sk-toggleable__control:checked~label.sk-toggleable__label-arrow:before {content: \"▾\";}#sk-container-id-1 div.sk-estimator input.sk-toggleable__control:checked~label.sk-toggleable__label {background-color: #d4ebff;}#sk-container-id-1 div.sk-label input.sk-toggleable__control:checked~label.sk-toggleable__label {background-color: #d4ebff;}#sk-container-id-1 input.sk-hidden--visually {border: 0;clip: rect(1px 1px 1px 1px);clip: rect(1px, 1px, 1px, 1px);height: 1px;margin: -1px;overflow: hidden;padding: 0;position: absolute;width: 1px;}#sk-container-id-1 div.sk-estimator {font-family: monospace;background-color: #f0f8ff;border: 1px dotted black;border-radius: 0.25em;box-sizing: border-box;margin-bottom: 0.5em;}#sk-container-id-1 div.sk-estimator:hover {background-color: #d4ebff;}#sk-container-id-1 div.sk-parallel-item::after {content: \"\";width: 100%;border-bottom: 1px solid gray;flex-grow: 1;}#sk-container-id-1 div.sk-label:hover label.sk-toggleable__label {background-color: #d4ebff;}#sk-container-id-1 div.sk-serial::before {content: \"\";position: absolute;border-left: 1px solid gray;box-sizing: border-box;top: 0;bottom: 0;left: 50%;z-index: 0;}#sk-container-id-1 div.sk-serial {display: flex;flex-direction: column;align-items: center;background-color: white;padding-right: 0.2em;padding-left: 0.2em;position: relative;}#sk-container-id-1 div.sk-item {position: relative;z-index: 1;}#sk-container-id-1 div.sk-parallel {display: flex;align-items: stretch;justify-content: center;background-color: white;position: relative;}#sk-container-id-1 div.sk-item::before, #sk-container-id-1 div.sk-parallel-item::before {content: \"\";position: absolute;border-left: 1px solid gray;box-sizing: border-box;top: 0;bottom: 0;left: 50%;z-index: -1;}#sk-container-id-1 div.sk-parallel-item {display: flex;flex-direction: column;z-index: 1;position: relative;background-color: white;}#sk-container-id-1 div.sk-parallel-item:first-child::after {align-self: flex-end;width: 50%;}#sk-container-id-1 div.sk-parallel-item:last-child::after {align-self: flex-start;width: 50%;}#sk-container-id-1 div.sk-parallel-item:only-child::after {width: 0;}#sk-container-id-1 div.sk-dashed-wrapped {border: 1px dashed gray;margin: 0 0.4em 0.5em 0.4em;box-sizing: border-box;padding-bottom: 0.4em;background-color: white;}#sk-container-id-1 div.sk-label label {font-family: monospace;font-weight: bold;display: inline-block;line-height: 1.2em;}#sk-container-id-1 div.sk-label-container {text-align: center;}#sk-container-id-1 div.sk-container {/* jupyter's `normalize.less` sets `[hidden] { display: none; }` but bootstrap.min.css set `[hidden] { display: none !important; }` so we also need the `!important` here to be able to override the default hidden behavior on the sphinx rendered scikit-learn.org. See: https://github.com/scikit-learn/scikit-learn/issues/21755 */display: inline-block !important;position: relative;}#sk-container-id-1 div.sk-text-repr-fallback {display: none;}</style><div id=\"sk-container-id-1\" class=\"sk-top-container\"><div class=\"sk-text-repr-fallback\"><pre>OrdinalEncoder(categories=[[&#x27;Missing&#x27;, &#x27;HR&#x27;, &#x27;E&#x27;, &#x27;D&#x27;, &#x27;C&#x27;, &#x27;B&#x27;, &#x27;A&#x27;, &#x27;AA&#x27;],\n",
       "                           [&#x27;Not displayed&#x27;, &#x27;$0&#x27;, &#x27;Not employed&#x27;, &#x27;$1-24,999&#x27;,\n",
       "                            &#x27;$75,000-99,999&#x27;, &#x27;$100,000+&#x27;, &#x27;$50,000-74,999&#x27;,\n",
       "                            &#x27;$25,000-49,999&#x27;]])</pre><b>In a Jupyter environment, please rerun this cell to show the HTML representation or trust the notebook. <br />On GitHub, the HTML representation is unable to render, please try loading this page with nbviewer.org.</b></div><div class=\"sk-container\" hidden><div class=\"sk-item\"><div class=\"sk-estimator sk-toggleable\"><input class=\"sk-toggleable__control sk-hidden--visually\" id=\"sk-estimator-id-1\" type=\"checkbox\" checked><label for=\"sk-estimator-id-1\" class=\"sk-toggleable__label sk-toggleable__label-arrow\">OrdinalEncoder</label><div class=\"sk-toggleable__content\"><pre>OrdinalEncoder(categories=[[&#x27;Missing&#x27;, &#x27;HR&#x27;, &#x27;E&#x27;, &#x27;D&#x27;, &#x27;C&#x27;, &#x27;B&#x27;, &#x27;A&#x27;, &#x27;AA&#x27;],\n",
       "                           [&#x27;Not displayed&#x27;, &#x27;$0&#x27;, &#x27;Not employed&#x27;, &#x27;$1-24,999&#x27;,\n",
       "                            &#x27;$75,000-99,999&#x27;, &#x27;$100,000+&#x27;, &#x27;$50,000-74,999&#x27;,\n",
       "                            &#x27;$25,000-49,999&#x27;]])</pre></div></div></div></div></div>"
      ],
      "text/plain": [
       "OrdinalEncoder(categories=[['Missing', 'HR', 'E', 'D', 'C', 'B', 'A', 'AA'],\n",
       "                           ['Not displayed', '$0', 'Not employed', '$1-24,999',\n",
       "                            '$75,000-99,999', '$100,000+', '$50,000-74,999',\n",
       "                            '$25,000-49,999']])"
      ]
     },
     "execution_count": 38,
     "metadata": {},
     "output_type": "execute_result"
    }
   ],
   "source": [
    "#ordinal encoding\n",
    "from sklearn.preprocessing import OrdinalEncoder\n",
    "oe=OrdinalEncoder(categories=[['Missing','HR','E','D','C','B','A','AA'],['Not displayed','$0','Not employed','$1-24,999','$75,000-99,999','$100,000+','$50,000-74,999','$25,000-49,999']])\n",
    "oe.fit(category_columns[['ProsperRating (Alpha)','IncomeRange']])"
   ]
  },
  {
   "cell_type": "code",
   "execution_count": 39,
   "id": "03a36569",
   "metadata": {},
   "outputs": [],
   "source": [
    "Ordinal_encoding=pd.DataFrame(oe.transform(category_columns[['ProsperRating (Alpha)','IncomeRange']]))"
   ]
  },
  {
   "cell_type": "code",
   "execution_count": 40,
   "id": "745fb2f1",
   "metadata": {},
   "outputs": [],
   "source": [
    "total_categorical_frame = pd.DataFrame(np.hstack((Nominal_encoding.values,Ordinal_encoding.values)))"
   ]
  },
  {
   "cell_type": "code",
   "execution_count": 41,
   "id": "1fb120a6",
   "metadata": {},
   "outputs": [],
   "source": [
    "numerical_columns = df.select_dtypes(exclude=[\"object\"]).columns.values\n",
    "total_numerical_frame=df[numerical_columns]"
   ]
  },
  {
   "cell_type": "code",
   "execution_count": 43,
   "id": "de30aaab",
   "metadata": {},
   "outputs": [],
   "source": [
    "data_ready_for_scaling=pd.DataFrame(np.hstack((total_numerical_frame.values,total_categorical_frame.values)))"
   ]
  },
  {
   "cell_type": "code",
   "execution_count": 44,
   "id": "bd318dde",
   "metadata": {},
   "outputs": [],
   "source": [
    "x = data_ready_for_scaling"
   ]
  },
  {
   "cell_type": "markdown",
   "id": "9cce9a8a",
   "metadata": {},
   "source": [
    "## 6. Predicting Risk Status"
   ]
  },
  {
   "cell_type": "code",
   "execution_count": 46,
   "id": "9e68fb14",
   "metadata": {},
   "outputs": [],
   "source": [
    "from sklearn.model_selection import train_test_split\n",
    "X_train, X_test, y_train, y_test = train_test_split(x, y[['Riskk']], shuffle = True,test_size=0.33,random_state=100)"
   ]
  },
  {
   "cell_type": "code",
   "execution_count": 47,
   "id": "e281244c",
   "metadata": {},
   "outputs": [],
   "source": [
    "#Applying Standardization\n",
    "from sklearn.preprocessing import StandardScaler\n",
    "scaler=StandardScaler()\n",
    "scaler.fit(pd.DataFrame(X_train))\n",
    "X_train_scaled = pd.DataFrame(scaler.transform(pd.DataFrame(X_train)))\n",
    "X_test_scaled = pd.DataFrame(scaler.transform(pd.DataFrame(X_test)))"
   ]
  },
  {
   "cell_type": "code",
   "execution_count": 48,
   "id": "7f65b163",
   "metadata": {},
   "outputs": [],
   "source": [
    "from sklearn.tree import DecisionTreeClassifier\n",
    "from sklearn.metrics import confusion_matrix\n",
    "\n",
    "dtree_model = DecisionTreeClassifier(max_depth = 4).fit(X_train_scaled, y_train)\n",
    "\n",
    "dtree_predictions = dtree_model.predict(X_test_scaled)\n",
    "acc = dtree_model.score(X_test_scaled,y_test)"
   ]
  },
  {
   "cell_type": "code",
   "execution_count": 49,
   "id": "29f86812",
   "metadata": {},
   "outputs": [
    {
     "data": {
      "text/plain": [
       "0.8762880712471098"
      ]
     },
     "execution_count": 49,
     "metadata": {},
     "output_type": "execute_result"
    }
   ],
   "source": [
    "acc"
   ]
  },
  {
   "cell_type": "markdown",
   "id": "a37fdf6d",
   "metadata": {},
   "source": [
    "## 7. Predicting ELA (Eligible Loan Amount)"
   ]
  },
  {
   "cell_type": "code",
   "execution_count": 51,
   "id": "f1d5a8a3",
   "metadata": {},
   "outputs": [],
   "source": [
    "#Splitting the training and testing data\n",
    "from sklearn.model_selection import train_test_split\n",
    "X_train, X_test, y_train, y_test = train_test_split(x, y['ELA'], shuffle = True,test_size=0.33,random_state=100)"
   ]
  },
  {
   "cell_type": "code",
   "execution_count": 52,
   "id": "6bd1eab3",
   "metadata": {},
   "outputs": [],
   "source": [
    "#Applying Standardization\n",
    "from sklearn.preprocessing import StandardScaler\n",
    "scaler=StandardScaler()\n",
    "scaler.fit(pd.DataFrame(X_train))\n",
    "X_train_scaled = pd.DataFrame(scaler.transform(pd.DataFrame(X_train)))\n",
    "X_test_scaled = pd.DataFrame(scaler.transform(pd.DataFrame(X_test)))"
   ]
  },
  {
   "cell_type": "code",
   "execution_count": 53,
   "id": "358f0fbf",
   "metadata": {},
   "outputs": [
    {
     "name": "stdout",
     "output_type": "stream",
     "text": [
      "The duration of training is: 1.7315545082092285\n",
      "R_squared for the validation data is:0.5672023209773261\n",
      "The mean squared error for the testing model is:96126646.24855421 \n"
     ]
    }
   ],
   "source": [
    "from sklearn.linear_model import LinearRegression\n",
    "# Import mean squared error\n",
    "from sklearn.metrics import mean_squared_error\n",
    "# Initiate the model\n",
    "from time import time\n",
    "start = time()\n",
    "# Fit the model to our dataset\n",
    "model = LinearRegression()\n",
    "reg=model.fit(X_train_scaled, y_train)\n",
    "test_pred=reg.predict(X_test_scaled)\n",
    "test_mse = mean_squared_error(y_test, test_pred)\n",
    "accuracy=model.score(X_test_scaled, y_test)\n",
    "end = time()\n",
    "duration=end-start\n",
    "# Show the results\n",
    "print(f\"The duration of training is: {duration}\")\n",
    "print(f\"R_squared for the validation data is:{accuracy}\")\n",
    "print(f\"The mean squared error for the testing model is:{test_mse} \")"
   ]
  },
  {
   "cell_type": "code",
   "execution_count": 54,
   "id": "bd8804a1",
   "metadata": {},
   "outputs": [
    {
     "name": "stdout",
     "output_type": "stream",
     "text": [
      "The duration of training is: 0.2131352424621582\n",
      "R_squared for the validation data is:0.5672144800332808\n",
      "The mean squared error for the testing model is:96123945.65812333 \n"
     ]
    }
   ],
   "source": [
    "# Import Ridge Regression algorithm\n",
    "from sklearn.linear_model import Ridge\n",
    "# Initiate the model\n",
    "start = time()\n",
    "ridg_model = Ridge(alpha=1.0)\n",
    "# Fit the model to our dataset\n",
    "ridg_model.fit(X_train_scaled, y_train)\n",
    "test_preds = ridg_model.predict(X_test_scaled)\n",
    "test_mse_ridg = mean_squared_error(y_test, test_preds)\n",
    "accuracy=ridg_model.score(X_test_scaled, y_test)\n",
    "end = time()\n",
    "duration=end-start\n",
    "# Show the results\n",
    "print(f\"The duration of training is: {duration}\")\n",
    "print(f\"R_squared for the validation data is:{accuracy}\")\n",
    "print(f\"The mean squared error for the testing model is:{test_mse_ridg} \")"
   ]
  },
  {
   "cell_type": "code",
   "execution_count": 55,
   "id": "76063853",
   "metadata": {},
   "outputs": [
    {
     "name": "stdout",
     "output_type": "stream",
     "text": [
      "The duration of training is: 95.34652876853943\n",
      "R_squared for the validation data is:0.5672461108489358\n",
      "The mean squared error for the testing model is:96116920.28720663 \n"
     ]
    }
   ],
   "source": [
    "# Import Lasso Regression algorithm\n",
    "from sklearn.linear_model import Lasso\n",
    "# Initiate the model\n",
    "start = time()\n",
    "las_model = Lasso(alpha = 1, max_iter=2000, random_state=10)\n",
    "# Fit the model to our dataset\n",
    "las_model.fit(X_train_scaled, y_train)\n",
    "test_preds = las_model.predict(X_test_scaled)\n",
    "test_mse_las = mean_squared_error(y_test, test_preds)\n",
    "accuracy=las_model.score(X_test_scaled, y_test)\n",
    "end = time()\n",
    "duration=end-start\n",
    "# Show the results\n",
    "print(f\"The duration of training is: {duration}\")\n",
    "print(f\"R_squared for the validation data is:{accuracy}\")\n",
    "print(f\"The mean squared error for the testing model is:{test_mse_las} \")\n"
   ]
  },
  {
   "cell_type": "code",
   "execution_count": 56,
   "id": "a97a2824",
   "metadata": {},
   "outputs": [
    {
     "name": "stderr",
     "output_type": "stream",
     "text": [
      "<ipython-input-56-347bfb05666f>:8: DataConversionWarning: A column-vector y was passed when a 1d array was expected. Please change the shape of y to (n_samples,), for example using ravel().\n",
      "  ran_model.fit(X_train_scaled, y_train)\n"
     ]
    },
    {
     "name": "stdout",
     "output_type": "stream",
     "text": [
      "The duration of training is: 262.61998867988586\n",
      "R_squared for the validation data is:0.9376158377037085\n",
      "The mean squared error for the model is:13855851.339382632 \n"
     ]
    }
   ],
   "source": [
    "# Import  Random Forest Regressor algorithm\n",
    "from sklearn.ensemble import RandomForestRegressor\n",
    "from sklearn.metrics import mean_squared_error,r2_score\n",
    "# Initiate the model\n",
    "start = time()\n",
    "ran_model = RandomForestRegressor(n_estimators = 100)\n",
    "# Fit the model to our dataset\n",
    "ran_model.fit(X_train_scaled, y_train)\n",
    "test_predsr = ran_model.predict(X_test_scaled)\n",
    "accuracy=r2_score(y_test, test_predsr)\n",
    "test_mse_ran = mean_squared_error(y_test, test_predsr)\n",
    "end = time()\n",
    "duration=end-start\n",
    "# Show the results\n",
    "print(f\"The duration of training is: {duration}\")\n",
    "print(f\"R_squared for the validation data is:{accuracy}\")\n",
    "print(f\"The mean squared error for the model is:{test_mse_ran} \")"
   ]
  },
  {
   "cell_type": "markdown",
   "id": "96956518",
   "metadata": {},
   "source": [
    "## 8. Predicitng EMI (Equated Monthly Income)"
   ]
  },
  {
   "cell_type": "code",
   "execution_count": 58,
   "id": "a95b4946",
   "metadata": {},
   "outputs": [],
   "source": [
    "#Splitting the training and testing data\n",
    "from sklearn.model_selection import train_test_split\n",
    "X_train, X_test, y_train, y_test = train_test_split(x, y['EMI'], shuffle = True,test_size=0.33,random_state=100)"
   ]
  },
  {
   "cell_type": "code",
   "execution_count": 59,
   "id": "62c1b555",
   "metadata": {},
   "outputs": [],
   "source": [
    "#Applying Standardization\n",
    "from sklearn.preprocessing import StandardScaler\n",
    "scaler=StandardScaler()\n",
    "scaler.fit(pd.DataFrame(X_train))\n",
    "X_train_scaled = pd.DataFrame(scaler.transform(pd.DataFrame(X_train)))\n",
    "X_test_scaled = pd.DataFrame(scaler.transform(pd.DataFrame(X_test)))"
   ]
  },
  {
   "cell_type": "code",
   "execution_count": 60,
   "id": "51c7e21d",
   "metadata": {},
   "outputs": [
    {
     "name": "stdout",
     "output_type": "stream",
     "text": [
      "The duration of training is: 1.8918824195861816\n",
      "R_squared for the validation data is:0.9161885726733131\n",
      "The mean squared error for the testing model is:43372.227471152575 \n"
     ]
    }
   ],
   "source": [
    "from sklearn.linear_model import LinearRegression\n",
    "# Import mean squared error\n",
    "from sklearn.metrics import mean_squared_error\n",
    "# Initiate the model\n",
    "from time import time\n",
    "start = time()\n",
    "# Fit the model to our dataset\n",
    "model = LinearRegression()\n",
    "reg=model.fit(X_train_scaled, y_train)\n",
    "test_pred=reg.predict(X_test_scaled)\n",
    "test_mse = mean_squared_error(y_test, test_pred)\n",
    "accuracy=model.score(X_test_scaled, y_test)\n",
    "end = time()\n",
    "duration=end-start\n",
    "# Show the results\n",
    "print(f\"The duration of training is: {duration}\")\n",
    "print(f\"R_squared for the validation data is:{accuracy}\")\n",
    "print(f\"The mean squared error for the testing model is:{test_mse} \")"
   ]
  },
  {
   "cell_type": "code",
   "execution_count": 61,
   "id": "e32ef06b",
   "metadata": {},
   "outputs": [
    {
     "name": "stdout",
     "output_type": "stream",
     "text": [
      "The duration of training is: 0.19895315170288086\n",
      "R_squared for the validation data is:0.9161786507718461\n",
      "The mean squared error for the testing model is:43377.3620331222 \n"
     ]
    }
   ],
   "source": [
    "# Import Ridge Regression algorithm\n",
    "from sklearn.linear_model import Ridge\n",
    "# Initiate the model\n",
    "start = time()\n",
    "ridg_model = Ridge(alpha=1.0)\n",
    "# Fit the model to our dataset\n",
    "ridg_model.fit(X_train_scaled, y_train)\n",
    "test_preds = ridg_model.predict(X_test_scaled)\n",
    "test_mse_ridg = mean_squared_error(y_test, test_preds)\n",
    "accuracy=ridg_model.score(X_test_scaled, y_test)\n",
    "end = time()\n",
    "duration=end-start\n",
    "# Show the results\n",
    "print(f\"The duration of training is: {duration}\")\n",
    "print(f\"R_squared for the validation data is:{accuracy}\")\n",
    "print(f\"The mean squared error for the testing model is:{test_mse_ridg} \")"
   ]
  },
  {
   "cell_type": "code",
   "execution_count": 62,
   "id": "9266574c",
   "metadata": {},
   "outputs": [
    {
     "name": "stdout",
     "output_type": "stream",
     "text": [
      "The duration of training is: 6.322042226791382\n",
      "R_squared for the validation data is:0.9157565416919402\n",
      "The mean squared error for the testing model is:43595.8025443422 \n"
     ]
    }
   ],
   "source": [
    "# Import Lasso Regression algorithm\n",
    "from sklearn.linear_model import Lasso\n",
    "# Initiate the model\n",
    "start = time()\n",
    "las_model = Lasso(alpha = 1, max_iter=2000, random_state=10)\n",
    "# Fit the model to our dataset\n",
    "las_model.fit(X_train_scaled, y_train)\n",
    "test_preds = las_model.predict(X_test_scaled)\n",
    "test_mse_las = mean_squared_error(y_test, test_preds)\n",
    "accuracy=las_model.score(X_test_scaled, y_test)\n",
    "end = time()\n",
    "duration=end-start\n",
    "# Show the results\n",
    "print(f\"The duration of training is: {duration}\")\n",
    "print(f\"R_squared for the validation data is:{accuracy}\")\n",
    "print(f\"The mean squared error for the testing model is:{test_mse_las} \")\n"
   ]
  },
  {
   "cell_type": "code",
   "execution_count": 63,
   "id": "22129c82",
   "metadata": {},
   "outputs": [
    {
     "name": "stdout",
     "output_type": "stream",
     "text": [
      "The duration of training is: 324.9240336418152\n",
      "R_squared for the validation data is:0.9987262445567846\n",
      "The mean squared error for the model is:659.1656124696976 \n"
     ]
    }
   ],
   "source": [
    "# Import  Random Forest Regressor algorithm\n",
    "from sklearn.ensemble import RandomForestRegressor\n",
    "from sklearn.metrics import mean_squared_error,r2_score\n",
    "# Initiate the model\n",
    "start = time()\n",
    "ran_model = RandomForestRegressor(n_estimators = 100)\n",
    "# Fit the model to our dataset\n",
    "ran_model.fit(X_train_scaled, y_train)\n",
    "test_predsr = ran_model.predict(X_test_scaled)\n",
    "accuracy=r2_score(y_test, test_predsr)\n",
    "test_mse_ran = mean_squared_error(y_test, test_predsr)\n",
    "end = time()\n",
    "duration=end-start\n",
    "# Show the results\n",
    "print(f\"The duration of training is: {duration}\")\n",
    "print(f\"R_squared for the validation data is:{accuracy}\")\n",
    "print(f\"The mean squared error for the model is:{test_mse_ran} \")"
   ]
  },
  {
   "cell_type": "markdown",
   "id": "8703b6c5",
   "metadata": {},
   "source": [
    "## 9. Predicting  PROI (Preferred Return on Investment)"
   ]
  },
  {
   "cell_type": "code",
   "execution_count": 65,
   "id": "2d8e648d",
   "metadata": {},
   "outputs": [],
   "source": [
    "#Splitting the training and testing data\n",
    "from sklearn.model_selection import train_test_split\n",
    "X_train, X_test, y_train, y_test = train_test_split(x, y['PROI'], shuffle = True,test_size=0.33,random_state=100)"
   ]
  },
  {
   "cell_type": "code",
   "execution_count": 66,
   "id": "b0b029bd",
   "metadata": {},
   "outputs": [],
   "source": [
    "#Applying Standardization\n",
    "from sklearn.preprocessing import StandardScaler\n",
    "scaler=StandardScaler()\n",
    "scaler.fit(pd.DataFrame(X_train))\n",
    "X_train_scaled = pd.DataFrame(scaler.transform(pd.DataFrame(X_train)))\n",
    "X_test_scaled = pd.DataFrame(scaler.transform(pd.DataFrame(X_test)))"
   ]
  },
  {
   "cell_type": "code",
   "execution_count": 67,
   "id": "ad55ac6f",
   "metadata": {},
   "outputs": [
    {
     "name": "stdout",
     "output_type": "stream",
     "text": [
      "The duration of training is: 1.7934274673461914\n",
      "R_squared for the validation data is:0.7363311914640781\n",
      "The mean squared error for the testing model is:0.0006345510580954896 \n"
     ]
    }
   ],
   "source": [
    "from sklearn.linear_model import LinearRegression\n",
    "# Import mean squared error\n",
    "from sklearn.metrics import mean_squared_error\n",
    "# Initiate the model\n",
    "from time import time\n",
    "start = time()\n",
    "# Fit the model to our dataset\n",
    "model = LinearRegression()\n",
    "reg=model.fit(X_train_scaled, y_train)\n",
    "test_pred=reg.predict(X_test_scaled)\n",
    "test_mse = mean_squared_error(y_test, test_pred)\n",
    "accuracy=model.score(X_test_scaled, y_test)\n",
    "end = time()\n",
    "duration=end-start\n",
    "# Show the results\n",
    "print(f\"The duration of training is: {duration}\")\n",
    "print(f\"R_squared for the validation data is:{accuracy}\")\n",
    "print(f\"The mean squared error for the testing model is:{test_mse} \")"
   ]
  },
  {
   "cell_type": "code",
   "execution_count": 68,
   "id": "8cd1d576",
   "metadata": {},
   "outputs": [
    {
     "name": "stdout",
     "output_type": "stream",
     "text": [
      "The duration of training is: 0.2751901149749756\n",
      "R_squared for the validation data is:0.7363270944797727\n",
      "The mean squared error for the testing model is:0.0006345609179865416 \n"
     ]
    }
   ],
   "source": [
    "# Import Ridge Regression algorithm\n",
    "from sklearn.linear_model import Ridge\n",
    "# Initiate the model\n",
    "start = time()\n",
    "ridg_model = Ridge(alpha=1.0)\n",
    "# Fit the model to our dataset\n",
    "ridg_model.fit(X_train_scaled, y_train)\n",
    "test_preds = ridg_model.predict(X_test_scaled)\n",
    "test_mse_ridg = mean_squared_error(y_test, test_preds)\n",
    "accuracy=ridg_model.score(X_test_scaled, y_test)\n",
    "end = time()\n",
    "duration=end-start\n",
    "# Show the results\n",
    "print(f\"The duration of training is: {duration}\")\n",
    "print(f\"R_squared for the validation data is:{accuracy}\")\n",
    "print(f\"The mean squared error for the testing model is:{test_mse_ridg} \")"
   ]
  },
  {
   "cell_type": "code",
   "execution_count": 69,
   "id": "5e6e8375",
   "metadata": {},
   "outputs": [
    {
     "name": "stdout",
     "output_type": "stream",
     "text": [
      "The duration of training is: 0.45366668701171875\n",
      "R_squared for the validation data is:-6.654360350899502e-05\n",
      "The mean squared error for the testing model is:0.0024067817764764146 \n"
     ]
    }
   ],
   "source": [
    "# Import Lasso Regression algorithm\n",
    "from sklearn.linear_model import Lasso\n",
    "# Initiate the model\n",
    "start = time()\n",
    "las_model = Lasso(alpha = 1, max_iter=2000, random_state=10)\n",
    "# Fit the model to our dataset\n",
    "las_model.fit(X_train_scaled, y_train)\n",
    "test_preds = las_model.predict(X_test_scaled)\n",
    "test_mse_las = mean_squared_error(y_test, test_preds)\n",
    "accuracy=las_model.score(X_test_scaled, y_test)\n",
    "end = time()\n",
    "duration=end-start\n",
    "# Show the results\n",
    "print(f\"The duration of training is: {duration}\")\n",
    "print(f\"R_squared for the validation data is:{accuracy}\")\n",
    "print(f\"The mean squared error for the testing model is:{test_mse_las} \")\n"
   ]
  },
  {
   "cell_type": "code",
   "execution_count": 70,
   "id": "0f94f00d",
   "metadata": {},
   "outputs": [
    {
     "name": "stdout",
     "output_type": "stream",
     "text": [
      "The duration of training is: 224.2358226776123\n",
      "R_squared for the validation data is:0.9986097335358249\n",
      "The mean squared error for the model is:3.3458453458168026e-06 \n"
     ]
    }
   ],
   "source": [
    "# Import  Random Forest Regressor algorithm\n",
    "from sklearn.ensemble import RandomForestRegressor\n",
    "from sklearn.metrics import mean_squared_error,r2_score\n",
    "# Initiate the model\n",
    "start = time()\n",
    "ran_model = RandomForestRegressor(n_estimators = 100)\n",
    "# Fit the model to our dataset\n",
    "ran_model.fit(X_train_scaled, y_train)\n",
    "test_predsr = ran_model.predict(X_test_scaled)\n",
    "accuracy=r2_score(y_test, test_predsr)\n",
    "test_mse_ran = mean_squared_error(y_test, test_predsr)\n",
    "end = time()\n",
    "duration=end-start\n",
    "# Show the results\n",
    "print(f\"The duration of training is: {duration}\")\n",
    "print(f\"R_squared for the validation data is:{accuracy}\")\n",
    "print(f\"The mean squared error for the model is:{test_mse_ran} \")"
   ]
  }
 ],
 "metadata": {
  "kernelspec": {
   "display_name": "Python 3",
   "language": "python",
   "name": "python3"
  },
  "language_info": {
   "codemirror_mode": {
    "name": "ipython",
    "version": 3
   },
   "file_extension": ".py",
   "mimetype": "text/x-python",
   "name": "python",
   "nbconvert_exporter": "python",
   "pygments_lexer": "ipython3",
   "version": "3.9.0"
  }
 },
 "nbformat": 4,
 "nbformat_minor": 5
}
