{
 "cells": [
  {
   "cell_type": "markdown",
   "id": "43bb45ad",
   "metadata": {},
   "source": [
    "## 1. Import Libraries"
   ]
  },
  {
   "cell_type": "code",
   "execution_count": 1,
   "id": "da47cbe9",
   "metadata": {
    "scrolled": true
   },
   "outputs": [],
   "source": [
    "import pandas as pd\n",
    "import numpy as np\n",
    "import warnings\n",
    "import matplotlib.pyplot as plt\n",
    "import seaborn as sns\n",
    "import eli5\n",
    "import pickle\n",
    "\n",
    "sns.set()\n",
    "warnings.filterwarnings('ignore')"
   ]
  },
  {
   "cell_type": "code",
   "execution_count": 3,
   "id": "7ce4bf41",
   "metadata": {},
   "outputs": [],
   "source": [
    "from sklearn.feature_selection import mutual_info_regression, SelectKBest, chi2\n",
    "from sklearn.ensemble import ExtraTreesClassifier, RandomForestRegressor, RandomForestClassifier, StackingClassifier, GradientBoostingClassifier\n",
    "from sklearn.tree import DecisionTreeClassifier\n",
    "from sklearn.metrics import accuracy_score\n",
    "from sklearn.metrics import mean_squared_error,r2_score\n",
    "\n",
    "from sklearn.preprocessing import StandardScaler, scale, MinMaxScaler\n",
    "from sklearn.decomposition import PCA\n",
    "from sklearn.preprocessing import OrdinalEncoder\n",
    "from sklearn.preprocessing import OneHotEncoder\n",
    "from sklearn.compose import ColumnTransformer\n",
    "\n",
    "from sklearn.model_selection import train_test_split, cross_val_score, cross_validate, GridSearchCV, RandomizedSearchCV\n",
    "from sklearn.linear_model import LogisticRegression\n",
    "from sklearn.pipeline import Pipeline\n",
    "\n",
    "from sklearn.discriminant_analysis import QuadraticDiscriminantAnalysis\n",
    "from sklearn.discriminant_analysis import LinearDiscriminantAnalysis\n",
    "\n",
    "from imblearn.over_sampling import RandomOverSampler, SMOTE\n",
    "from eli5.sklearn import PermutationImportance\n",
    "from pprint import pprint\n",
    "\n",
    "from xgboost import XGBRegressor, XGBClassifier"
   ]
  },
  {
   "cell_type": "code",
   "execution_count": 4,
   "id": "a87a9fa3",
   "metadata": {},
   "outputs": [],
   "source": [
    "df = pd.read_csv('kf_data.csv')"
   ]
  },
  {
   "cell_type": "code",
   "execution_count": 5,
   "id": "9522aa9e",
   "metadata": {},
   "outputs": [
    {
     "name": "stdout",
     "output_type": "stream",
     "text": [
      "<class 'pandas.core.frame.DataFrame'>\n",
      "RangeIndex: 106159 entries, 0 to 106158\n",
      "Data columns (total 48 columns):\n",
      " #   Column                              Non-Null Count   Dtype  \n",
      "---  ------                              --------------   -----  \n",
      " 0   ProsperRating (numeric)             106159 non-null  float64\n",
      " 1   ProsperScore                        106159 non-null  float64\n",
      " 2   Term                                106159 non-null  int64  \n",
      " 3   BorrowerRate                        106159 non-null  float64\n",
      " 4   ProsperRating (Alpha)               106159 non-null  object \n",
      " 5   ListingCategory (numeric)           106159 non-null  int64  \n",
      " 6   IsBorrowerHomeowner                 106159 non-null  int64  \n",
      " 7   CurrentlyInGroup                    106159 non-null  int64  \n",
      " 8   OpenRevolvingAccounts               106159 non-null  int64  \n",
      " 9   OpenRevolvingMonthlyPayment         106159 non-null  float64\n",
      " 10  IncomeRange                         106159 non-null  object \n",
      " 11  IncomeVerifiable                    106159 non-null  int64  \n",
      " 12  StatedMonthlyIncome                 106159 non-null  float64\n",
      " 13  LoanOriginalAmount                  106159 non-null  int64  \n",
      " 14  MonthlyLoanPayment                  106159 non-null  float64\n",
      " 15  LP_CustomerPayments                 106159 non-null  float64\n",
      " 16  LP_CustomerPrincipalPayments        106159 non-null  float64\n",
      " 17  LP_InterestandFees                  106159 non-null  float64\n",
      " 18  LP_ServiceFees                      106159 non-null  float64\n",
      " 19  LP_CollectionFees                   106159 non-null  float64\n",
      " 20  LP_GrossPrincipalLoss               106159 non-null  float64\n",
      " 21  LP_NetPrincipalLoss                 106159 non-null  float64\n",
      " 22  Investors                           106159 non-null  int64  \n",
      " 23  BorrowerAPR                         106159 non-null  float64\n",
      " 24  BorrowerState                       106159 non-null  object \n",
      " 25  Occupation                          106159 non-null  object \n",
      " 26  EmploymentStatus                    106159 non-null  object \n",
      " 27  CreditScoreRangeLower               106159 non-null  float64\n",
      " 28  CreditScoreRangeUpper               106159 non-null  float64\n",
      " 29  TotalCreditLinespast7years          106159 non-null  float64\n",
      " 30  TotalInquiries                      106159 non-null  float64\n",
      " 31  CurrentDelinquencies                106159 non-null  float64\n",
      " 32  DelinquenciesLast7Years             106159 non-null  float64\n",
      " 33  PublicRecordsLast10Years            106159 non-null  float64\n",
      " 34  EmploymentStatusDuration            106159 non-null  float64\n",
      " 35  CurrentCreditLines                  106159 non-null  float64\n",
      " 36  OpenCreditLines                     106159 non-null  float64\n",
      " 37  AmountDelinquent                    106159 non-null  float64\n",
      " 38  RevolvingCreditBalance              106159 non-null  float64\n",
      " 39  BankcardUtilization                 106159 non-null  float64\n",
      " 40  AvailableBankcardCredit             106159 non-null  float64\n",
      " 41  TradesNeverDelinquent (percentage)  106159 non-null  float64\n",
      " 42  DebtToIncomeRatio                   106159 non-null  float64\n",
      " 43  EMI                                 106159 non-null  float64\n",
      " 44  Riskk                               106159 non-null  float64\n",
      " 45  ELA                                 106159 non-null  float64\n",
      " 46  CreditGrade                         106159 non-null  object \n",
      " 47  PROI                                106159 non-null  float64\n",
      "dtypes: float64(34), int64(8), object(6)\n",
      "memory usage: 38.9+ MB\n"
     ]
    }
   ],
   "source": [
    "df.info()"
   ]
  },
  {
   "cell_type": "code",
   "execution_count": 6,
   "id": "6a9565e6",
   "metadata": {},
   "outputs": [],
   "source": [
    "df.drop('ProsperRating (numeric)',axis=1,inplace=True)"
   ]
  },
  {
   "cell_type": "code",
   "execution_count": 7,
   "id": "a6495ba2",
   "metadata": {},
   "outputs": [],
   "source": [
    "y = df[['EMI','ELA','PROI','Riskk']]\n",
    "df.drop(['EMI','ELA','PROI','Riskk'],axis=1,inplace=True)\n",
    "x = df"
   ]
  },
  {
   "cell_type": "markdown",
   "id": "9feb9716",
   "metadata": {},
   "source": [
    "## 2. Train-Test Split"
   ]
  },
  {
   "cell_type": "code",
   "execution_count": 9,
   "id": "c741d209",
   "metadata": {},
   "outputs": [],
   "source": [
    "X_train, X_test, y_train, y_test = train_test_split(x, y, shuffle = True,test_size=0.33,random_state=100)"
   ]
  },
  {
   "cell_type": "code",
   "execution_count": 10,
   "id": "0616958f",
   "metadata": {},
   "outputs": [],
   "source": [
    "yEMI_train = y_train.iloc[:,0]\n",
    "yELA_train = y_train.iloc[:,1]\n",
    "yPROI_train = y_train.iloc[:,2]\n",
    "yRisk_train = y_train.iloc[:,3]\n",
    "yEMI_test = y_test.iloc[:,0]\n",
    "yELA_test = y_test.iloc[:,1]\n",
    "yPROI_test = y_test.iloc[:,2]\n",
    "yRisk_test = y_test.iloc[:,3]"
   ]
  },
  {
   "cell_type": "code",
   "execution_count": 11,
   "id": "a9114208",
   "metadata": {},
   "outputs": [],
   "source": [
    "trf1 = ColumnTransformer([\n",
    "    ('ohe',OneHotEncoder(sparse=False,handle_unknown='ignore'),[23,24,25,42]),\n",
    "    ('ord',OrdinalEncoder(categories=[['Missing','HR','E','D','C','B','A','AA'],['Not displayed','$0','Not employed','$1-24,999','$75,000-99,999','$100,000+','$50,000-74,999','$25,000-49,999']]),[3,9])\n",
    "],remainder = 'passthrough')"
   ]
  },
  {
   "cell_type": "markdown",
   "id": "f0dfee7e",
   "metadata": {},
   "source": [
    "## 3. Creating Pipelines"
   ]
  },
  {
   "cell_type": "markdown",
   "id": "f261a978",
   "metadata": {},
   "source": [
    "**Pipeline to predict EMI**"
   ]
  },
  {
   "cell_type": "code",
   "execution_count": 12,
   "id": "fc69bc3a",
   "metadata": {},
   "outputs": [],
   "source": [
    "pipe_EMI = Pipeline([\n",
    "    ('trf1',trf1),\n",
    "    ('scale', StandardScaler()),\n",
    "    ('reg',XGBRegressor(random_state = 10))\n",
    "])"
   ]
  },
  {
   "cell_type": "code",
   "execution_count": 13,
   "id": "1aa149d5",
   "metadata": {},
   "outputs": [
    {
     "data": {
      "text/html": [
       "<style>#sk-container-id-1 {color: black;background-color: white;}#sk-container-id-1 pre{padding: 0;}#sk-container-id-1 div.sk-toggleable {background-color: white;}#sk-container-id-1 label.sk-toggleable__label {cursor: pointer;display: block;width: 100%;margin-bottom: 0;padding: 0.3em;box-sizing: border-box;text-align: center;}#sk-container-id-1 label.sk-toggleable__label-arrow:before {content: \"▸\";float: left;margin-right: 0.25em;color: #696969;}#sk-container-id-1 label.sk-toggleable__label-arrow:hover:before {color: black;}#sk-container-id-1 div.sk-estimator:hover label.sk-toggleable__label-arrow:before {color: black;}#sk-container-id-1 div.sk-toggleable__content {max-height: 0;max-width: 0;overflow: hidden;text-align: left;background-color: #f0f8ff;}#sk-container-id-1 div.sk-toggleable__content pre {margin: 0.2em;color: black;border-radius: 0.25em;background-color: #f0f8ff;}#sk-container-id-1 input.sk-toggleable__control:checked~div.sk-toggleable__content {max-height: 200px;max-width: 100%;overflow: auto;}#sk-container-id-1 input.sk-toggleable__control:checked~label.sk-toggleable__label-arrow:before {content: \"▾\";}#sk-container-id-1 div.sk-estimator input.sk-toggleable__control:checked~label.sk-toggleable__label {background-color: #d4ebff;}#sk-container-id-1 div.sk-label input.sk-toggleable__control:checked~label.sk-toggleable__label {background-color: #d4ebff;}#sk-container-id-1 input.sk-hidden--visually {border: 0;clip: rect(1px 1px 1px 1px);clip: rect(1px, 1px, 1px, 1px);height: 1px;margin: -1px;overflow: hidden;padding: 0;position: absolute;width: 1px;}#sk-container-id-1 div.sk-estimator {font-family: monospace;background-color: #f0f8ff;border: 1px dotted black;border-radius: 0.25em;box-sizing: border-box;margin-bottom: 0.5em;}#sk-container-id-1 div.sk-estimator:hover {background-color: #d4ebff;}#sk-container-id-1 div.sk-parallel-item::after {content: \"\";width: 100%;border-bottom: 1px solid gray;flex-grow: 1;}#sk-container-id-1 div.sk-label:hover label.sk-toggleable__label {background-color: #d4ebff;}#sk-container-id-1 div.sk-serial::before {content: \"\";position: absolute;border-left: 1px solid gray;box-sizing: border-box;top: 0;bottom: 0;left: 50%;z-index: 0;}#sk-container-id-1 div.sk-serial {display: flex;flex-direction: column;align-items: center;background-color: white;padding-right: 0.2em;padding-left: 0.2em;position: relative;}#sk-container-id-1 div.sk-item {position: relative;z-index: 1;}#sk-container-id-1 div.sk-parallel {display: flex;align-items: stretch;justify-content: center;background-color: white;position: relative;}#sk-container-id-1 div.sk-item::before, #sk-container-id-1 div.sk-parallel-item::before {content: \"\";position: absolute;border-left: 1px solid gray;box-sizing: border-box;top: 0;bottom: 0;left: 50%;z-index: -1;}#sk-container-id-1 div.sk-parallel-item {display: flex;flex-direction: column;z-index: 1;position: relative;background-color: white;}#sk-container-id-1 div.sk-parallel-item:first-child::after {align-self: flex-end;width: 50%;}#sk-container-id-1 div.sk-parallel-item:last-child::after {align-self: flex-start;width: 50%;}#sk-container-id-1 div.sk-parallel-item:only-child::after {width: 0;}#sk-container-id-1 div.sk-dashed-wrapped {border: 1px dashed gray;margin: 0 0.4em 0.5em 0.4em;box-sizing: border-box;padding-bottom: 0.4em;background-color: white;}#sk-container-id-1 div.sk-label label {font-family: monospace;font-weight: bold;display: inline-block;line-height: 1.2em;}#sk-container-id-1 div.sk-label-container {text-align: center;}#sk-container-id-1 div.sk-container {/* jupyter's `normalize.less` sets `[hidden] { display: none; }` but bootstrap.min.css set `[hidden] { display: none !important; }` so we also need the `!important` here to be able to override the default hidden behavior on the sphinx rendered scikit-learn.org. See: https://github.com/scikit-learn/scikit-learn/issues/21755 */display: inline-block !important;position: relative;}#sk-container-id-1 div.sk-text-repr-fallback {display: none;}</style><div id=\"sk-container-id-1\" class=\"sk-top-container\"><div class=\"sk-text-repr-fallback\"><pre>Pipeline(steps=[(&#x27;trf1&#x27;,\n",
       "                 ColumnTransformer(remainder=&#x27;passthrough&#x27;,\n",
       "                                   transformers=[(&#x27;ohe&#x27;,\n",
       "                                                  OneHotEncoder(handle_unknown=&#x27;ignore&#x27;,\n",
       "                                                                sparse=False),\n",
       "                                                  [23, 24, 25, 42]),\n",
       "                                                 (&#x27;ord&#x27;,\n",
       "                                                  OrdinalEncoder(categories=[[&#x27;Missing&#x27;,\n",
       "                                                                              &#x27;HR&#x27;,\n",
       "                                                                              &#x27;E&#x27;,\n",
       "                                                                              &#x27;D&#x27;,\n",
       "                                                                              &#x27;C&#x27;,\n",
       "                                                                              &#x27;B&#x27;,\n",
       "                                                                              &#x27;A&#x27;,\n",
       "                                                                              &#x27;AA&#x27;],\n",
       "                                                                             [&#x27;Not &#x27;\n",
       "                                                                              &#x27;displayed&#x27;,\n",
       "                                                                              &#x27;$0&#x27;,\n",
       "                                                                              &#x27;Not &#x27;\n",
       "                                                                              &#x27;employed&#x27;,\n",
       "                                                                              &#x27;$1-24,999&#x27;,\n",
       "                                                                              &#x27;$75,000-99,999&#x27;,\n",
       "                                                                              &#x27;$100,000+&#x27;,\n",
       "                                                                              &#x27;$50,000-74,999&#x27;,\n",
       "                                                                              &#x27;$25,000-49,999&#x27;]]),\n",
       "                                                  [3,...\n",
       "                              feature_types=None, gamma=None, gpu_id=None,\n",
       "                              grow_policy=None, importance_type=None,\n",
       "                              interaction_constraints=None, learning_rate=None,\n",
       "                              max_bin=None, max_cat_threshold=None,\n",
       "                              max_cat_to_onehot=None, max_delta_step=None,\n",
       "                              max_depth=None, max_leaves=None,\n",
       "                              min_child_weight=None, missing=nan,\n",
       "                              monotone_constraints=None, n_estimators=100,\n",
       "                              n_jobs=None, num_parallel_tree=None,\n",
       "                              predictor=None, random_state=10, ...))])</pre><b>In a Jupyter environment, please rerun this cell to show the HTML representation or trust the notebook. <br />On GitHub, the HTML representation is unable to render, please try loading this page with nbviewer.org.</b></div><div class=\"sk-container\" hidden><div class=\"sk-item sk-dashed-wrapped\"><div class=\"sk-label-container\"><div class=\"sk-label sk-toggleable\"><input class=\"sk-toggleable__control sk-hidden--visually\" id=\"sk-estimator-id-1\" type=\"checkbox\" ><label for=\"sk-estimator-id-1\" class=\"sk-toggleable__label sk-toggleable__label-arrow\">Pipeline</label><div class=\"sk-toggleable__content\"><pre>Pipeline(steps=[(&#x27;trf1&#x27;,\n",
       "                 ColumnTransformer(remainder=&#x27;passthrough&#x27;,\n",
       "                                   transformers=[(&#x27;ohe&#x27;,\n",
       "                                                  OneHotEncoder(handle_unknown=&#x27;ignore&#x27;,\n",
       "                                                                sparse=False),\n",
       "                                                  [23, 24, 25, 42]),\n",
       "                                                 (&#x27;ord&#x27;,\n",
       "                                                  OrdinalEncoder(categories=[[&#x27;Missing&#x27;,\n",
       "                                                                              &#x27;HR&#x27;,\n",
       "                                                                              &#x27;E&#x27;,\n",
       "                                                                              &#x27;D&#x27;,\n",
       "                                                                              &#x27;C&#x27;,\n",
       "                                                                              &#x27;B&#x27;,\n",
       "                                                                              &#x27;A&#x27;,\n",
       "                                                                              &#x27;AA&#x27;],\n",
       "                                                                             [&#x27;Not &#x27;\n",
       "                                                                              &#x27;displayed&#x27;,\n",
       "                                                                              &#x27;$0&#x27;,\n",
       "                                                                              &#x27;Not &#x27;\n",
       "                                                                              &#x27;employed&#x27;,\n",
       "                                                                              &#x27;$1-24,999&#x27;,\n",
       "                                                                              &#x27;$75,000-99,999&#x27;,\n",
       "                                                                              &#x27;$100,000+&#x27;,\n",
       "                                                                              &#x27;$50,000-74,999&#x27;,\n",
       "                                                                              &#x27;$25,000-49,999&#x27;]]),\n",
       "                                                  [3,...\n",
       "                              feature_types=None, gamma=None, gpu_id=None,\n",
       "                              grow_policy=None, importance_type=None,\n",
       "                              interaction_constraints=None, learning_rate=None,\n",
       "                              max_bin=None, max_cat_threshold=None,\n",
       "                              max_cat_to_onehot=None, max_delta_step=None,\n",
       "                              max_depth=None, max_leaves=None,\n",
       "                              min_child_weight=None, missing=nan,\n",
       "                              monotone_constraints=None, n_estimators=100,\n",
       "                              n_jobs=None, num_parallel_tree=None,\n",
       "                              predictor=None, random_state=10, ...))])</pre></div></div></div><div class=\"sk-serial\"><div class=\"sk-item sk-dashed-wrapped\"><div class=\"sk-label-container\"><div class=\"sk-label sk-toggleable\"><input class=\"sk-toggleable__control sk-hidden--visually\" id=\"sk-estimator-id-2\" type=\"checkbox\" ><label for=\"sk-estimator-id-2\" class=\"sk-toggleable__label sk-toggleable__label-arrow\">trf1: ColumnTransformer</label><div class=\"sk-toggleable__content\"><pre>ColumnTransformer(remainder=&#x27;passthrough&#x27;,\n",
       "                  transformers=[(&#x27;ohe&#x27;,\n",
       "                                 OneHotEncoder(handle_unknown=&#x27;ignore&#x27;,\n",
       "                                               sparse=False),\n",
       "                                 [23, 24, 25, 42]),\n",
       "                                (&#x27;ord&#x27;,\n",
       "                                 OrdinalEncoder(categories=[[&#x27;Missing&#x27;, &#x27;HR&#x27;,\n",
       "                                                             &#x27;E&#x27;, &#x27;D&#x27;, &#x27;C&#x27;, &#x27;B&#x27;,\n",
       "                                                             &#x27;A&#x27;, &#x27;AA&#x27;],\n",
       "                                                            [&#x27;Not displayed&#x27;,\n",
       "                                                             &#x27;$0&#x27;,\n",
       "                                                             &#x27;Not employed&#x27;,\n",
       "                                                             &#x27;$1-24,999&#x27;,\n",
       "                                                             &#x27;$75,000-99,999&#x27;,\n",
       "                                                             &#x27;$100,000+&#x27;,\n",
       "                                                             &#x27;$50,000-74,999&#x27;,\n",
       "                                                             &#x27;$25,000-49,999&#x27;]]),\n",
       "                                 [3, 9])])</pre></div></div></div><div class=\"sk-parallel\"><div class=\"sk-parallel-item\"><div class=\"sk-item\"><div class=\"sk-label-container\"><div class=\"sk-label sk-toggleable\"><input class=\"sk-toggleable__control sk-hidden--visually\" id=\"sk-estimator-id-3\" type=\"checkbox\" ><label for=\"sk-estimator-id-3\" class=\"sk-toggleable__label sk-toggleable__label-arrow\">ohe</label><div class=\"sk-toggleable__content\"><pre>[23, 24, 25, 42]</pre></div></div></div><div class=\"sk-serial\"><div class=\"sk-item\"><div class=\"sk-estimator sk-toggleable\"><input class=\"sk-toggleable__control sk-hidden--visually\" id=\"sk-estimator-id-4\" type=\"checkbox\" ><label for=\"sk-estimator-id-4\" class=\"sk-toggleable__label sk-toggleable__label-arrow\">OneHotEncoder</label><div class=\"sk-toggleable__content\"><pre>OneHotEncoder(handle_unknown=&#x27;ignore&#x27;, sparse=False)</pre></div></div></div></div></div></div><div class=\"sk-parallel-item\"><div class=\"sk-item\"><div class=\"sk-label-container\"><div class=\"sk-label sk-toggleable\"><input class=\"sk-toggleable__control sk-hidden--visually\" id=\"sk-estimator-id-5\" type=\"checkbox\" ><label for=\"sk-estimator-id-5\" class=\"sk-toggleable__label sk-toggleable__label-arrow\">ord</label><div class=\"sk-toggleable__content\"><pre>[3, 9]</pre></div></div></div><div class=\"sk-serial\"><div class=\"sk-item\"><div class=\"sk-estimator sk-toggleable\"><input class=\"sk-toggleable__control sk-hidden--visually\" id=\"sk-estimator-id-6\" type=\"checkbox\" ><label for=\"sk-estimator-id-6\" class=\"sk-toggleable__label sk-toggleable__label-arrow\">OrdinalEncoder</label><div class=\"sk-toggleable__content\"><pre>OrdinalEncoder(categories=[[&#x27;Missing&#x27;, &#x27;HR&#x27;, &#x27;E&#x27;, &#x27;D&#x27;, &#x27;C&#x27;, &#x27;B&#x27;, &#x27;A&#x27;, &#x27;AA&#x27;],\n",
       "                           [&#x27;Not displayed&#x27;, &#x27;$0&#x27;, &#x27;Not employed&#x27;, &#x27;$1-24,999&#x27;,\n",
       "                            &#x27;$75,000-99,999&#x27;, &#x27;$100,000+&#x27;, &#x27;$50,000-74,999&#x27;,\n",
       "                            &#x27;$25,000-49,999&#x27;]])</pre></div></div></div></div></div></div><div class=\"sk-parallel-item\"><div class=\"sk-item\"><div class=\"sk-label-container\"><div class=\"sk-label sk-toggleable\"><input class=\"sk-toggleable__control sk-hidden--visually\" id=\"sk-estimator-id-7\" type=\"checkbox\" ><label for=\"sk-estimator-id-7\" class=\"sk-toggleable__label sk-toggleable__label-arrow\">remainder</label><div class=\"sk-toggleable__content\"><pre>[&#x27;ProsperScore&#x27;, &#x27;Term&#x27;, &#x27;BorrowerRate&#x27;, &#x27;ListingCategory (numeric)&#x27;, &#x27;IsBorrowerHomeowner&#x27;, &#x27;CurrentlyInGroup&#x27;, &#x27;OpenRevolvingAccounts&#x27;, &#x27;OpenRevolvingMonthlyPayment&#x27;, &#x27;IncomeVerifiable&#x27;, &#x27;StatedMonthlyIncome&#x27;, &#x27;LoanOriginalAmount&#x27;, &#x27;MonthlyLoanPayment&#x27;, &#x27;LP_CustomerPayments&#x27;, &#x27;LP_CustomerPrincipalPayments&#x27;, &#x27;LP_InterestandFees&#x27;, &#x27;LP_ServiceFees&#x27;, &#x27;LP_CollectionFees&#x27;, &#x27;LP_GrossPrincipalLoss&#x27;, &#x27;LP_NetPrincipalLoss&#x27;, &#x27;Investors&#x27;, &#x27;BorrowerAPR&#x27;, &#x27;CreditScoreRangeLower&#x27;, &#x27;CreditScoreRangeUpper&#x27;, &#x27;TotalCreditLinespast7years&#x27;, &#x27;TotalInquiries&#x27;, &#x27;CurrentDelinquencies&#x27;, &#x27;DelinquenciesLast7Years&#x27;, &#x27;PublicRecordsLast10Years&#x27;, &#x27;EmploymentStatusDuration&#x27;, &#x27;CurrentCreditLines&#x27;, &#x27;OpenCreditLines&#x27;, &#x27;AmountDelinquent&#x27;, &#x27;RevolvingCreditBalance&#x27;, &#x27;BankcardUtilization&#x27;, &#x27;AvailableBankcardCredit&#x27;, &#x27;TradesNeverDelinquent (percentage)&#x27;, &#x27;DebtToIncomeRatio&#x27;]</pre></div></div></div><div class=\"sk-serial\"><div class=\"sk-item\"><div class=\"sk-estimator sk-toggleable\"><input class=\"sk-toggleable__control sk-hidden--visually\" id=\"sk-estimator-id-8\" type=\"checkbox\" ><label for=\"sk-estimator-id-8\" class=\"sk-toggleable__label sk-toggleable__label-arrow\">passthrough</label><div class=\"sk-toggleable__content\"><pre>passthrough</pre></div></div></div></div></div></div></div></div><div class=\"sk-item\"><div class=\"sk-estimator sk-toggleable\"><input class=\"sk-toggleable__control sk-hidden--visually\" id=\"sk-estimator-id-9\" type=\"checkbox\" ><label for=\"sk-estimator-id-9\" class=\"sk-toggleable__label sk-toggleable__label-arrow\">StandardScaler</label><div class=\"sk-toggleable__content\"><pre>StandardScaler()</pre></div></div></div><div class=\"sk-item\"><div class=\"sk-estimator sk-toggleable\"><input class=\"sk-toggleable__control sk-hidden--visually\" id=\"sk-estimator-id-10\" type=\"checkbox\" ><label for=\"sk-estimator-id-10\" class=\"sk-toggleable__label sk-toggleable__label-arrow\">XGBRegressor</label><div class=\"sk-toggleable__content\"><pre>XGBRegressor(base_score=None, booster=None, callbacks=None,\n",
       "             colsample_bylevel=None, colsample_bynode=None,\n",
       "             colsample_bytree=None, early_stopping_rounds=None,\n",
       "             enable_categorical=False, eval_metric=None, feature_types=None,\n",
       "             gamma=None, gpu_id=None, grow_policy=None, importance_type=None,\n",
       "             interaction_constraints=None, learning_rate=None, max_bin=None,\n",
       "             max_cat_threshold=None, max_cat_to_onehot=None,\n",
       "             max_delta_step=None, max_depth=None, max_leaves=None,\n",
       "             min_child_weight=None, missing=nan, monotone_constraints=None,\n",
       "             n_estimators=100, n_jobs=None, num_parallel_tree=None,\n",
       "             predictor=None, random_state=10, ...)</pre></div></div></div></div></div></div></div>"
      ],
      "text/plain": [
       "Pipeline(steps=[('trf1',\n",
       "                 ColumnTransformer(remainder='passthrough',\n",
       "                                   transformers=[('ohe',\n",
       "                                                  OneHotEncoder(handle_unknown='ignore',\n",
       "                                                                sparse=False),\n",
       "                                                  [23, 24, 25, 42]),\n",
       "                                                 ('ord',\n",
       "                                                  OrdinalEncoder(categories=[['Missing',\n",
       "                                                                              'HR',\n",
       "                                                                              'E',\n",
       "                                                                              'D',\n",
       "                                                                              'C',\n",
       "                                                                              'B',\n",
       "                                                                              'A',\n",
       "                                                                              'AA'],\n",
       "                                                                             ['Not '\n",
       "                                                                              'displayed',\n",
       "                                                                              '$0',\n",
       "                                                                              'Not '\n",
       "                                                                              'employed',\n",
       "                                                                              '$1-24,999',\n",
       "                                                                              '$75,000-99,999',\n",
       "                                                                              '$100,000+',\n",
       "                                                                              '$50,000-74,999',\n",
       "                                                                              '$25,000-49,999']]),\n",
       "                                                  [3,...\n",
       "                              feature_types=None, gamma=None, gpu_id=None,\n",
       "                              grow_policy=None, importance_type=None,\n",
       "                              interaction_constraints=None, learning_rate=None,\n",
       "                              max_bin=None, max_cat_threshold=None,\n",
       "                              max_cat_to_onehot=None, max_delta_step=None,\n",
       "                              max_depth=None, max_leaves=None,\n",
       "                              min_child_weight=None, missing=nan,\n",
       "                              monotone_constraints=None, n_estimators=100,\n",
       "                              n_jobs=None, num_parallel_tree=None,\n",
       "                              predictor=None, random_state=10, ...))])"
      ]
     },
     "execution_count": 13,
     "metadata": {},
     "output_type": "execute_result"
    }
   ],
   "source": [
    "pipe_EMI.fit(X_train,yEMI_train)"
   ]
  },
  {
   "cell_type": "code",
   "execution_count": 14,
   "id": "e7d92d7b",
   "metadata": {},
   "outputs": [],
   "source": [
    "yEMI2 = pipe_EMI.predict(X_test)"
   ]
  },
  {
   "cell_type": "code",
   "execution_count": 15,
   "id": "1b57c05c",
   "metadata": {},
   "outputs": [],
   "source": [
    "EMI_accuracy = r2_score(yEMI_test, yEMI2)"
   ]
  },
  {
   "cell_type": "code",
   "execution_count": 16,
   "id": "bdb4b80c",
   "metadata": {},
   "outputs": [
    {
     "data": {
      "text/plain": [
       "0.9986296148265381"
      ]
     },
     "execution_count": 16,
     "metadata": {},
     "output_type": "execute_result"
    }
   ],
   "source": [
    "EMI_accuracy"
   ]
  },
  {
   "cell_type": "markdown",
   "id": "6d66b9c1",
   "metadata": {},
   "source": [
    "**Accuracy for EMI (Equated Monthly Income) prediction is about 98.07%**"
   ]
  },
  {
   "cell_type": "markdown",
   "id": "8978e54b",
   "metadata": {},
   "source": [
    "**Pipeline to predict EMI**"
   ]
  },
  {
   "cell_type": "code",
   "execution_count": 17,
   "id": "6f4f7cd5",
   "metadata": {},
   "outputs": [],
   "source": [
    "pipe_ELA = Pipeline([\n",
    "    ('trf1',trf1),\n",
    "    ('scale', StandardScaler()),\n",
    "    ('reg',XGBRegressor(random_state = 10))\n",
    "])"
   ]
  },
  {
   "cell_type": "code",
   "execution_count": 18,
   "id": "c7419005",
   "metadata": {},
   "outputs": [
    {
     "data": {
      "text/html": [
       "<style>#sk-container-id-2 {color: black;background-color: white;}#sk-container-id-2 pre{padding: 0;}#sk-container-id-2 div.sk-toggleable {background-color: white;}#sk-container-id-2 label.sk-toggleable__label {cursor: pointer;display: block;width: 100%;margin-bottom: 0;padding: 0.3em;box-sizing: border-box;text-align: center;}#sk-container-id-2 label.sk-toggleable__label-arrow:before {content: \"▸\";float: left;margin-right: 0.25em;color: #696969;}#sk-container-id-2 label.sk-toggleable__label-arrow:hover:before {color: black;}#sk-container-id-2 div.sk-estimator:hover label.sk-toggleable__label-arrow:before {color: black;}#sk-container-id-2 div.sk-toggleable__content {max-height: 0;max-width: 0;overflow: hidden;text-align: left;background-color: #f0f8ff;}#sk-container-id-2 div.sk-toggleable__content pre {margin: 0.2em;color: black;border-radius: 0.25em;background-color: #f0f8ff;}#sk-container-id-2 input.sk-toggleable__control:checked~div.sk-toggleable__content {max-height: 200px;max-width: 100%;overflow: auto;}#sk-container-id-2 input.sk-toggleable__control:checked~label.sk-toggleable__label-arrow:before {content: \"▾\";}#sk-container-id-2 div.sk-estimator input.sk-toggleable__control:checked~label.sk-toggleable__label {background-color: #d4ebff;}#sk-container-id-2 div.sk-label input.sk-toggleable__control:checked~label.sk-toggleable__label {background-color: #d4ebff;}#sk-container-id-2 input.sk-hidden--visually {border: 0;clip: rect(1px 1px 1px 1px);clip: rect(1px, 1px, 1px, 1px);height: 1px;margin: -1px;overflow: hidden;padding: 0;position: absolute;width: 1px;}#sk-container-id-2 div.sk-estimator {font-family: monospace;background-color: #f0f8ff;border: 1px dotted black;border-radius: 0.25em;box-sizing: border-box;margin-bottom: 0.5em;}#sk-container-id-2 div.sk-estimator:hover {background-color: #d4ebff;}#sk-container-id-2 div.sk-parallel-item::after {content: \"\";width: 100%;border-bottom: 1px solid gray;flex-grow: 1;}#sk-container-id-2 div.sk-label:hover label.sk-toggleable__label {background-color: #d4ebff;}#sk-container-id-2 div.sk-serial::before {content: \"\";position: absolute;border-left: 1px solid gray;box-sizing: border-box;top: 0;bottom: 0;left: 50%;z-index: 0;}#sk-container-id-2 div.sk-serial {display: flex;flex-direction: column;align-items: center;background-color: white;padding-right: 0.2em;padding-left: 0.2em;position: relative;}#sk-container-id-2 div.sk-item {position: relative;z-index: 1;}#sk-container-id-2 div.sk-parallel {display: flex;align-items: stretch;justify-content: center;background-color: white;position: relative;}#sk-container-id-2 div.sk-item::before, #sk-container-id-2 div.sk-parallel-item::before {content: \"\";position: absolute;border-left: 1px solid gray;box-sizing: border-box;top: 0;bottom: 0;left: 50%;z-index: -1;}#sk-container-id-2 div.sk-parallel-item {display: flex;flex-direction: column;z-index: 1;position: relative;background-color: white;}#sk-container-id-2 div.sk-parallel-item:first-child::after {align-self: flex-end;width: 50%;}#sk-container-id-2 div.sk-parallel-item:last-child::after {align-self: flex-start;width: 50%;}#sk-container-id-2 div.sk-parallel-item:only-child::after {width: 0;}#sk-container-id-2 div.sk-dashed-wrapped {border: 1px dashed gray;margin: 0 0.4em 0.5em 0.4em;box-sizing: border-box;padding-bottom: 0.4em;background-color: white;}#sk-container-id-2 div.sk-label label {font-family: monospace;font-weight: bold;display: inline-block;line-height: 1.2em;}#sk-container-id-2 div.sk-label-container {text-align: center;}#sk-container-id-2 div.sk-container {/* jupyter's `normalize.less` sets `[hidden] { display: none; }` but bootstrap.min.css set `[hidden] { display: none !important; }` so we also need the `!important` here to be able to override the default hidden behavior on the sphinx rendered scikit-learn.org. See: https://github.com/scikit-learn/scikit-learn/issues/21755 */display: inline-block !important;position: relative;}#sk-container-id-2 div.sk-text-repr-fallback {display: none;}</style><div id=\"sk-container-id-2\" class=\"sk-top-container\"><div class=\"sk-text-repr-fallback\"><pre>Pipeline(steps=[(&#x27;trf1&#x27;,\n",
       "                 ColumnTransformer(remainder=&#x27;passthrough&#x27;,\n",
       "                                   transformers=[(&#x27;ohe&#x27;,\n",
       "                                                  OneHotEncoder(handle_unknown=&#x27;ignore&#x27;,\n",
       "                                                                sparse=False),\n",
       "                                                  [23, 24, 25, 42]),\n",
       "                                                 (&#x27;ord&#x27;,\n",
       "                                                  OrdinalEncoder(categories=[[&#x27;Missing&#x27;,\n",
       "                                                                              &#x27;HR&#x27;,\n",
       "                                                                              &#x27;E&#x27;,\n",
       "                                                                              &#x27;D&#x27;,\n",
       "                                                                              &#x27;C&#x27;,\n",
       "                                                                              &#x27;B&#x27;,\n",
       "                                                                              &#x27;A&#x27;,\n",
       "                                                                              &#x27;AA&#x27;],\n",
       "                                                                             [&#x27;Not &#x27;\n",
       "                                                                              &#x27;displayed&#x27;,\n",
       "                                                                              &#x27;$0&#x27;,\n",
       "                                                                              &#x27;Not &#x27;\n",
       "                                                                              &#x27;employed&#x27;,\n",
       "                                                                              &#x27;$1-24,999&#x27;,\n",
       "                                                                              &#x27;$75,000-99,999&#x27;,\n",
       "                                                                              &#x27;$100,000+&#x27;,\n",
       "                                                                              &#x27;$50,000-74,999&#x27;,\n",
       "                                                                              &#x27;$25,000-49,999&#x27;]]),\n",
       "                                                  [3,...\n",
       "                              feature_types=None, gamma=None, gpu_id=None,\n",
       "                              grow_policy=None, importance_type=None,\n",
       "                              interaction_constraints=None, learning_rate=None,\n",
       "                              max_bin=None, max_cat_threshold=None,\n",
       "                              max_cat_to_onehot=None, max_delta_step=None,\n",
       "                              max_depth=None, max_leaves=None,\n",
       "                              min_child_weight=None, missing=nan,\n",
       "                              monotone_constraints=None, n_estimators=100,\n",
       "                              n_jobs=None, num_parallel_tree=None,\n",
       "                              predictor=None, random_state=10, ...))])</pre><b>In a Jupyter environment, please rerun this cell to show the HTML representation or trust the notebook. <br />On GitHub, the HTML representation is unable to render, please try loading this page with nbviewer.org.</b></div><div class=\"sk-container\" hidden><div class=\"sk-item sk-dashed-wrapped\"><div class=\"sk-label-container\"><div class=\"sk-label sk-toggleable\"><input class=\"sk-toggleable__control sk-hidden--visually\" id=\"sk-estimator-id-11\" type=\"checkbox\" ><label for=\"sk-estimator-id-11\" class=\"sk-toggleable__label sk-toggleable__label-arrow\">Pipeline</label><div class=\"sk-toggleable__content\"><pre>Pipeline(steps=[(&#x27;trf1&#x27;,\n",
       "                 ColumnTransformer(remainder=&#x27;passthrough&#x27;,\n",
       "                                   transformers=[(&#x27;ohe&#x27;,\n",
       "                                                  OneHotEncoder(handle_unknown=&#x27;ignore&#x27;,\n",
       "                                                                sparse=False),\n",
       "                                                  [23, 24, 25, 42]),\n",
       "                                                 (&#x27;ord&#x27;,\n",
       "                                                  OrdinalEncoder(categories=[[&#x27;Missing&#x27;,\n",
       "                                                                              &#x27;HR&#x27;,\n",
       "                                                                              &#x27;E&#x27;,\n",
       "                                                                              &#x27;D&#x27;,\n",
       "                                                                              &#x27;C&#x27;,\n",
       "                                                                              &#x27;B&#x27;,\n",
       "                                                                              &#x27;A&#x27;,\n",
       "                                                                              &#x27;AA&#x27;],\n",
       "                                                                             [&#x27;Not &#x27;\n",
       "                                                                              &#x27;displayed&#x27;,\n",
       "                                                                              &#x27;$0&#x27;,\n",
       "                                                                              &#x27;Not &#x27;\n",
       "                                                                              &#x27;employed&#x27;,\n",
       "                                                                              &#x27;$1-24,999&#x27;,\n",
       "                                                                              &#x27;$75,000-99,999&#x27;,\n",
       "                                                                              &#x27;$100,000+&#x27;,\n",
       "                                                                              &#x27;$50,000-74,999&#x27;,\n",
       "                                                                              &#x27;$25,000-49,999&#x27;]]),\n",
       "                                                  [3,...\n",
       "                              feature_types=None, gamma=None, gpu_id=None,\n",
       "                              grow_policy=None, importance_type=None,\n",
       "                              interaction_constraints=None, learning_rate=None,\n",
       "                              max_bin=None, max_cat_threshold=None,\n",
       "                              max_cat_to_onehot=None, max_delta_step=None,\n",
       "                              max_depth=None, max_leaves=None,\n",
       "                              min_child_weight=None, missing=nan,\n",
       "                              monotone_constraints=None, n_estimators=100,\n",
       "                              n_jobs=None, num_parallel_tree=None,\n",
       "                              predictor=None, random_state=10, ...))])</pre></div></div></div><div class=\"sk-serial\"><div class=\"sk-item sk-dashed-wrapped\"><div class=\"sk-label-container\"><div class=\"sk-label sk-toggleable\"><input class=\"sk-toggleable__control sk-hidden--visually\" id=\"sk-estimator-id-12\" type=\"checkbox\" ><label for=\"sk-estimator-id-12\" class=\"sk-toggleable__label sk-toggleable__label-arrow\">trf1: ColumnTransformer</label><div class=\"sk-toggleable__content\"><pre>ColumnTransformer(remainder=&#x27;passthrough&#x27;,\n",
       "                  transformers=[(&#x27;ohe&#x27;,\n",
       "                                 OneHotEncoder(handle_unknown=&#x27;ignore&#x27;,\n",
       "                                               sparse=False),\n",
       "                                 [23, 24, 25, 42]),\n",
       "                                (&#x27;ord&#x27;,\n",
       "                                 OrdinalEncoder(categories=[[&#x27;Missing&#x27;, &#x27;HR&#x27;,\n",
       "                                                             &#x27;E&#x27;, &#x27;D&#x27;, &#x27;C&#x27;, &#x27;B&#x27;,\n",
       "                                                             &#x27;A&#x27;, &#x27;AA&#x27;],\n",
       "                                                            [&#x27;Not displayed&#x27;,\n",
       "                                                             &#x27;$0&#x27;,\n",
       "                                                             &#x27;Not employed&#x27;,\n",
       "                                                             &#x27;$1-24,999&#x27;,\n",
       "                                                             &#x27;$75,000-99,999&#x27;,\n",
       "                                                             &#x27;$100,000+&#x27;,\n",
       "                                                             &#x27;$50,000-74,999&#x27;,\n",
       "                                                             &#x27;$25,000-49,999&#x27;]]),\n",
       "                                 [3, 9])])</pre></div></div></div><div class=\"sk-parallel\"><div class=\"sk-parallel-item\"><div class=\"sk-item\"><div class=\"sk-label-container\"><div class=\"sk-label sk-toggleable\"><input class=\"sk-toggleable__control sk-hidden--visually\" id=\"sk-estimator-id-13\" type=\"checkbox\" ><label for=\"sk-estimator-id-13\" class=\"sk-toggleable__label sk-toggleable__label-arrow\">ohe</label><div class=\"sk-toggleable__content\"><pre>[23, 24, 25, 42]</pre></div></div></div><div class=\"sk-serial\"><div class=\"sk-item\"><div class=\"sk-estimator sk-toggleable\"><input class=\"sk-toggleable__control sk-hidden--visually\" id=\"sk-estimator-id-14\" type=\"checkbox\" ><label for=\"sk-estimator-id-14\" class=\"sk-toggleable__label sk-toggleable__label-arrow\">OneHotEncoder</label><div class=\"sk-toggleable__content\"><pre>OneHotEncoder(handle_unknown=&#x27;ignore&#x27;, sparse=False)</pre></div></div></div></div></div></div><div class=\"sk-parallel-item\"><div class=\"sk-item\"><div class=\"sk-label-container\"><div class=\"sk-label sk-toggleable\"><input class=\"sk-toggleable__control sk-hidden--visually\" id=\"sk-estimator-id-15\" type=\"checkbox\" ><label for=\"sk-estimator-id-15\" class=\"sk-toggleable__label sk-toggleable__label-arrow\">ord</label><div class=\"sk-toggleable__content\"><pre>[3, 9]</pre></div></div></div><div class=\"sk-serial\"><div class=\"sk-item\"><div class=\"sk-estimator sk-toggleable\"><input class=\"sk-toggleable__control sk-hidden--visually\" id=\"sk-estimator-id-16\" type=\"checkbox\" ><label for=\"sk-estimator-id-16\" class=\"sk-toggleable__label sk-toggleable__label-arrow\">OrdinalEncoder</label><div class=\"sk-toggleable__content\"><pre>OrdinalEncoder(categories=[[&#x27;Missing&#x27;, &#x27;HR&#x27;, &#x27;E&#x27;, &#x27;D&#x27;, &#x27;C&#x27;, &#x27;B&#x27;, &#x27;A&#x27;, &#x27;AA&#x27;],\n",
       "                           [&#x27;Not displayed&#x27;, &#x27;$0&#x27;, &#x27;Not employed&#x27;, &#x27;$1-24,999&#x27;,\n",
       "                            &#x27;$75,000-99,999&#x27;, &#x27;$100,000+&#x27;, &#x27;$50,000-74,999&#x27;,\n",
       "                            &#x27;$25,000-49,999&#x27;]])</pre></div></div></div></div></div></div><div class=\"sk-parallel-item\"><div class=\"sk-item\"><div class=\"sk-label-container\"><div class=\"sk-label sk-toggleable\"><input class=\"sk-toggleable__control sk-hidden--visually\" id=\"sk-estimator-id-17\" type=\"checkbox\" ><label for=\"sk-estimator-id-17\" class=\"sk-toggleable__label sk-toggleable__label-arrow\">remainder</label><div class=\"sk-toggleable__content\"><pre>[&#x27;ProsperScore&#x27;, &#x27;Term&#x27;, &#x27;BorrowerRate&#x27;, &#x27;ListingCategory (numeric)&#x27;, &#x27;IsBorrowerHomeowner&#x27;, &#x27;CurrentlyInGroup&#x27;, &#x27;OpenRevolvingAccounts&#x27;, &#x27;OpenRevolvingMonthlyPayment&#x27;, &#x27;IncomeVerifiable&#x27;, &#x27;StatedMonthlyIncome&#x27;, &#x27;LoanOriginalAmount&#x27;, &#x27;MonthlyLoanPayment&#x27;, &#x27;LP_CustomerPayments&#x27;, &#x27;LP_CustomerPrincipalPayments&#x27;, &#x27;LP_InterestandFees&#x27;, &#x27;LP_ServiceFees&#x27;, &#x27;LP_CollectionFees&#x27;, &#x27;LP_GrossPrincipalLoss&#x27;, &#x27;LP_NetPrincipalLoss&#x27;, &#x27;Investors&#x27;, &#x27;BorrowerAPR&#x27;, &#x27;CreditScoreRangeLower&#x27;, &#x27;CreditScoreRangeUpper&#x27;, &#x27;TotalCreditLinespast7years&#x27;, &#x27;TotalInquiries&#x27;, &#x27;CurrentDelinquencies&#x27;, &#x27;DelinquenciesLast7Years&#x27;, &#x27;PublicRecordsLast10Years&#x27;, &#x27;EmploymentStatusDuration&#x27;, &#x27;CurrentCreditLines&#x27;, &#x27;OpenCreditLines&#x27;, &#x27;AmountDelinquent&#x27;, &#x27;RevolvingCreditBalance&#x27;, &#x27;BankcardUtilization&#x27;, &#x27;AvailableBankcardCredit&#x27;, &#x27;TradesNeverDelinquent (percentage)&#x27;, &#x27;DebtToIncomeRatio&#x27;]</pre></div></div></div><div class=\"sk-serial\"><div class=\"sk-item\"><div class=\"sk-estimator sk-toggleable\"><input class=\"sk-toggleable__control sk-hidden--visually\" id=\"sk-estimator-id-18\" type=\"checkbox\" ><label for=\"sk-estimator-id-18\" class=\"sk-toggleable__label sk-toggleable__label-arrow\">passthrough</label><div class=\"sk-toggleable__content\"><pre>passthrough</pre></div></div></div></div></div></div></div></div><div class=\"sk-item\"><div class=\"sk-estimator sk-toggleable\"><input class=\"sk-toggleable__control sk-hidden--visually\" id=\"sk-estimator-id-19\" type=\"checkbox\" ><label for=\"sk-estimator-id-19\" class=\"sk-toggleable__label sk-toggleable__label-arrow\">StandardScaler</label><div class=\"sk-toggleable__content\"><pre>StandardScaler()</pre></div></div></div><div class=\"sk-item\"><div class=\"sk-estimator sk-toggleable\"><input class=\"sk-toggleable__control sk-hidden--visually\" id=\"sk-estimator-id-20\" type=\"checkbox\" ><label for=\"sk-estimator-id-20\" class=\"sk-toggleable__label sk-toggleable__label-arrow\">XGBRegressor</label><div class=\"sk-toggleable__content\"><pre>XGBRegressor(base_score=None, booster=None, callbacks=None,\n",
       "             colsample_bylevel=None, colsample_bynode=None,\n",
       "             colsample_bytree=None, early_stopping_rounds=None,\n",
       "             enable_categorical=False, eval_metric=None, feature_types=None,\n",
       "             gamma=None, gpu_id=None, grow_policy=None, importance_type=None,\n",
       "             interaction_constraints=None, learning_rate=None, max_bin=None,\n",
       "             max_cat_threshold=None, max_cat_to_onehot=None,\n",
       "             max_delta_step=None, max_depth=None, max_leaves=None,\n",
       "             min_child_weight=None, missing=nan, monotone_constraints=None,\n",
       "             n_estimators=100, n_jobs=None, num_parallel_tree=None,\n",
       "             predictor=None, random_state=10, ...)</pre></div></div></div></div></div></div></div>"
      ],
      "text/plain": [
       "Pipeline(steps=[('trf1',\n",
       "                 ColumnTransformer(remainder='passthrough',\n",
       "                                   transformers=[('ohe',\n",
       "                                                  OneHotEncoder(handle_unknown='ignore',\n",
       "                                                                sparse=False),\n",
       "                                                  [23, 24, 25, 42]),\n",
       "                                                 ('ord',\n",
       "                                                  OrdinalEncoder(categories=[['Missing',\n",
       "                                                                              'HR',\n",
       "                                                                              'E',\n",
       "                                                                              'D',\n",
       "                                                                              'C',\n",
       "                                                                              'B',\n",
       "                                                                              'A',\n",
       "                                                                              'AA'],\n",
       "                                                                             ['Not '\n",
       "                                                                              'displayed',\n",
       "                                                                              '$0',\n",
       "                                                                              'Not '\n",
       "                                                                              'employed',\n",
       "                                                                              '$1-24,999',\n",
       "                                                                              '$75,000-99,999',\n",
       "                                                                              '$100,000+',\n",
       "                                                                              '$50,000-74,999',\n",
       "                                                                              '$25,000-49,999']]),\n",
       "                                                  [3,...\n",
       "                              feature_types=None, gamma=None, gpu_id=None,\n",
       "                              grow_policy=None, importance_type=None,\n",
       "                              interaction_constraints=None, learning_rate=None,\n",
       "                              max_bin=None, max_cat_threshold=None,\n",
       "                              max_cat_to_onehot=None, max_delta_step=None,\n",
       "                              max_depth=None, max_leaves=None,\n",
       "                              min_child_weight=None, missing=nan,\n",
       "                              monotone_constraints=None, n_estimators=100,\n",
       "                              n_jobs=None, num_parallel_tree=None,\n",
       "                              predictor=None, random_state=10, ...))])"
      ]
     },
     "execution_count": 18,
     "metadata": {},
     "output_type": "execute_result"
    }
   ],
   "source": [
    "pipe_ELA.fit(X_train,yELA_train)"
   ]
  },
  {
   "cell_type": "code",
   "execution_count": 19,
   "id": "81576c27",
   "metadata": {},
   "outputs": [],
   "source": [
    "yELA2 = pipe_ELA.predict(X_test)"
   ]
  },
  {
   "cell_type": "code",
   "execution_count": 20,
   "id": "a20d6ac3",
   "metadata": {},
   "outputs": [],
   "source": [
    "ELA_accuracy = r2_score(yELA_test, yELA2)"
   ]
  },
  {
   "cell_type": "code",
   "execution_count": 21,
   "id": "41577e10",
   "metadata": {},
   "outputs": [
    {
     "data": {
      "text/plain": [
       "0.9318443066923667"
      ]
     },
     "execution_count": 21,
     "metadata": {},
     "output_type": "execute_result"
    }
   ],
   "source": [
    "ELA_accuracy"
   ]
  },
  {
   "cell_type": "markdown",
   "id": "2081b5f1",
   "metadata": {},
   "source": [
    "**Accuracy for ELA (Eligible Loan Amount) prediction is about 93.18%**"
   ]
  },
  {
   "cell_type": "markdown",
   "id": "3e81a581",
   "metadata": {},
   "source": [
    "**Pipeline to predict PROI**"
   ]
  },
  {
   "cell_type": "code",
   "execution_count": 22,
   "id": "2ff54a2a",
   "metadata": {},
   "outputs": [],
   "source": [
    "pipe_PROI = Pipeline([\n",
    "    ('trf1',trf1),\n",
    "    ('scale', StandardScaler()),\n",
    "    ('reg',XGBRegressor(random_state = 10))\n",
    "])"
   ]
  },
  {
   "cell_type": "code",
   "execution_count": 23,
   "id": "2fe8f6b7",
   "metadata": {},
   "outputs": [
    {
     "data": {
      "text/html": [
       "<style>#sk-container-id-3 {color: black;background-color: white;}#sk-container-id-3 pre{padding: 0;}#sk-container-id-3 div.sk-toggleable {background-color: white;}#sk-container-id-3 label.sk-toggleable__label {cursor: pointer;display: block;width: 100%;margin-bottom: 0;padding: 0.3em;box-sizing: border-box;text-align: center;}#sk-container-id-3 label.sk-toggleable__label-arrow:before {content: \"▸\";float: left;margin-right: 0.25em;color: #696969;}#sk-container-id-3 label.sk-toggleable__label-arrow:hover:before {color: black;}#sk-container-id-3 div.sk-estimator:hover label.sk-toggleable__label-arrow:before {color: black;}#sk-container-id-3 div.sk-toggleable__content {max-height: 0;max-width: 0;overflow: hidden;text-align: left;background-color: #f0f8ff;}#sk-container-id-3 div.sk-toggleable__content pre {margin: 0.2em;color: black;border-radius: 0.25em;background-color: #f0f8ff;}#sk-container-id-3 input.sk-toggleable__control:checked~div.sk-toggleable__content {max-height: 200px;max-width: 100%;overflow: auto;}#sk-container-id-3 input.sk-toggleable__control:checked~label.sk-toggleable__label-arrow:before {content: \"▾\";}#sk-container-id-3 div.sk-estimator input.sk-toggleable__control:checked~label.sk-toggleable__label {background-color: #d4ebff;}#sk-container-id-3 div.sk-label input.sk-toggleable__control:checked~label.sk-toggleable__label {background-color: #d4ebff;}#sk-container-id-3 input.sk-hidden--visually {border: 0;clip: rect(1px 1px 1px 1px);clip: rect(1px, 1px, 1px, 1px);height: 1px;margin: -1px;overflow: hidden;padding: 0;position: absolute;width: 1px;}#sk-container-id-3 div.sk-estimator {font-family: monospace;background-color: #f0f8ff;border: 1px dotted black;border-radius: 0.25em;box-sizing: border-box;margin-bottom: 0.5em;}#sk-container-id-3 div.sk-estimator:hover {background-color: #d4ebff;}#sk-container-id-3 div.sk-parallel-item::after {content: \"\";width: 100%;border-bottom: 1px solid gray;flex-grow: 1;}#sk-container-id-3 div.sk-label:hover label.sk-toggleable__label {background-color: #d4ebff;}#sk-container-id-3 div.sk-serial::before {content: \"\";position: absolute;border-left: 1px solid gray;box-sizing: border-box;top: 0;bottom: 0;left: 50%;z-index: 0;}#sk-container-id-3 div.sk-serial {display: flex;flex-direction: column;align-items: center;background-color: white;padding-right: 0.2em;padding-left: 0.2em;position: relative;}#sk-container-id-3 div.sk-item {position: relative;z-index: 1;}#sk-container-id-3 div.sk-parallel {display: flex;align-items: stretch;justify-content: center;background-color: white;position: relative;}#sk-container-id-3 div.sk-item::before, #sk-container-id-3 div.sk-parallel-item::before {content: \"\";position: absolute;border-left: 1px solid gray;box-sizing: border-box;top: 0;bottom: 0;left: 50%;z-index: -1;}#sk-container-id-3 div.sk-parallel-item {display: flex;flex-direction: column;z-index: 1;position: relative;background-color: white;}#sk-container-id-3 div.sk-parallel-item:first-child::after {align-self: flex-end;width: 50%;}#sk-container-id-3 div.sk-parallel-item:last-child::after {align-self: flex-start;width: 50%;}#sk-container-id-3 div.sk-parallel-item:only-child::after {width: 0;}#sk-container-id-3 div.sk-dashed-wrapped {border: 1px dashed gray;margin: 0 0.4em 0.5em 0.4em;box-sizing: border-box;padding-bottom: 0.4em;background-color: white;}#sk-container-id-3 div.sk-label label {font-family: monospace;font-weight: bold;display: inline-block;line-height: 1.2em;}#sk-container-id-3 div.sk-label-container {text-align: center;}#sk-container-id-3 div.sk-container {/* jupyter's `normalize.less` sets `[hidden] { display: none; }` but bootstrap.min.css set `[hidden] { display: none !important; }` so we also need the `!important` here to be able to override the default hidden behavior on the sphinx rendered scikit-learn.org. See: https://github.com/scikit-learn/scikit-learn/issues/21755 */display: inline-block !important;position: relative;}#sk-container-id-3 div.sk-text-repr-fallback {display: none;}</style><div id=\"sk-container-id-3\" class=\"sk-top-container\"><div class=\"sk-text-repr-fallback\"><pre>Pipeline(steps=[(&#x27;trf1&#x27;,\n",
       "                 ColumnTransformer(remainder=&#x27;passthrough&#x27;,\n",
       "                                   transformers=[(&#x27;ohe&#x27;,\n",
       "                                                  OneHotEncoder(handle_unknown=&#x27;ignore&#x27;,\n",
       "                                                                sparse=False),\n",
       "                                                  [23, 24, 25, 42]),\n",
       "                                                 (&#x27;ord&#x27;,\n",
       "                                                  OrdinalEncoder(categories=[[&#x27;Missing&#x27;,\n",
       "                                                                              &#x27;HR&#x27;,\n",
       "                                                                              &#x27;E&#x27;,\n",
       "                                                                              &#x27;D&#x27;,\n",
       "                                                                              &#x27;C&#x27;,\n",
       "                                                                              &#x27;B&#x27;,\n",
       "                                                                              &#x27;A&#x27;,\n",
       "                                                                              &#x27;AA&#x27;],\n",
       "                                                                             [&#x27;Not &#x27;\n",
       "                                                                              &#x27;displayed&#x27;,\n",
       "                                                                              &#x27;$0&#x27;,\n",
       "                                                                              &#x27;Not &#x27;\n",
       "                                                                              &#x27;employed&#x27;,\n",
       "                                                                              &#x27;$1-24,999&#x27;,\n",
       "                                                                              &#x27;$75,000-99,999&#x27;,\n",
       "                                                                              &#x27;$100,000+&#x27;,\n",
       "                                                                              &#x27;$50,000-74,999&#x27;,\n",
       "                                                                              &#x27;$25,000-49,999&#x27;]]),\n",
       "                                                  [3,...\n",
       "                              feature_types=None, gamma=None, gpu_id=None,\n",
       "                              grow_policy=None, importance_type=None,\n",
       "                              interaction_constraints=None, learning_rate=None,\n",
       "                              max_bin=None, max_cat_threshold=None,\n",
       "                              max_cat_to_onehot=None, max_delta_step=None,\n",
       "                              max_depth=None, max_leaves=None,\n",
       "                              min_child_weight=None, missing=nan,\n",
       "                              monotone_constraints=None, n_estimators=100,\n",
       "                              n_jobs=None, num_parallel_tree=None,\n",
       "                              predictor=None, random_state=10, ...))])</pre><b>In a Jupyter environment, please rerun this cell to show the HTML representation or trust the notebook. <br />On GitHub, the HTML representation is unable to render, please try loading this page with nbviewer.org.</b></div><div class=\"sk-container\" hidden><div class=\"sk-item sk-dashed-wrapped\"><div class=\"sk-label-container\"><div class=\"sk-label sk-toggleable\"><input class=\"sk-toggleable__control sk-hidden--visually\" id=\"sk-estimator-id-21\" type=\"checkbox\" ><label for=\"sk-estimator-id-21\" class=\"sk-toggleable__label sk-toggleable__label-arrow\">Pipeline</label><div class=\"sk-toggleable__content\"><pre>Pipeline(steps=[(&#x27;trf1&#x27;,\n",
       "                 ColumnTransformer(remainder=&#x27;passthrough&#x27;,\n",
       "                                   transformers=[(&#x27;ohe&#x27;,\n",
       "                                                  OneHotEncoder(handle_unknown=&#x27;ignore&#x27;,\n",
       "                                                                sparse=False),\n",
       "                                                  [23, 24, 25, 42]),\n",
       "                                                 (&#x27;ord&#x27;,\n",
       "                                                  OrdinalEncoder(categories=[[&#x27;Missing&#x27;,\n",
       "                                                                              &#x27;HR&#x27;,\n",
       "                                                                              &#x27;E&#x27;,\n",
       "                                                                              &#x27;D&#x27;,\n",
       "                                                                              &#x27;C&#x27;,\n",
       "                                                                              &#x27;B&#x27;,\n",
       "                                                                              &#x27;A&#x27;,\n",
       "                                                                              &#x27;AA&#x27;],\n",
       "                                                                             [&#x27;Not &#x27;\n",
       "                                                                              &#x27;displayed&#x27;,\n",
       "                                                                              &#x27;$0&#x27;,\n",
       "                                                                              &#x27;Not &#x27;\n",
       "                                                                              &#x27;employed&#x27;,\n",
       "                                                                              &#x27;$1-24,999&#x27;,\n",
       "                                                                              &#x27;$75,000-99,999&#x27;,\n",
       "                                                                              &#x27;$100,000+&#x27;,\n",
       "                                                                              &#x27;$50,000-74,999&#x27;,\n",
       "                                                                              &#x27;$25,000-49,999&#x27;]]),\n",
       "                                                  [3,...\n",
       "                              feature_types=None, gamma=None, gpu_id=None,\n",
       "                              grow_policy=None, importance_type=None,\n",
       "                              interaction_constraints=None, learning_rate=None,\n",
       "                              max_bin=None, max_cat_threshold=None,\n",
       "                              max_cat_to_onehot=None, max_delta_step=None,\n",
       "                              max_depth=None, max_leaves=None,\n",
       "                              min_child_weight=None, missing=nan,\n",
       "                              monotone_constraints=None, n_estimators=100,\n",
       "                              n_jobs=None, num_parallel_tree=None,\n",
       "                              predictor=None, random_state=10, ...))])</pre></div></div></div><div class=\"sk-serial\"><div class=\"sk-item sk-dashed-wrapped\"><div class=\"sk-label-container\"><div class=\"sk-label sk-toggleable\"><input class=\"sk-toggleable__control sk-hidden--visually\" id=\"sk-estimator-id-22\" type=\"checkbox\" ><label for=\"sk-estimator-id-22\" class=\"sk-toggleable__label sk-toggleable__label-arrow\">trf1: ColumnTransformer</label><div class=\"sk-toggleable__content\"><pre>ColumnTransformer(remainder=&#x27;passthrough&#x27;,\n",
       "                  transformers=[(&#x27;ohe&#x27;,\n",
       "                                 OneHotEncoder(handle_unknown=&#x27;ignore&#x27;,\n",
       "                                               sparse=False),\n",
       "                                 [23, 24, 25, 42]),\n",
       "                                (&#x27;ord&#x27;,\n",
       "                                 OrdinalEncoder(categories=[[&#x27;Missing&#x27;, &#x27;HR&#x27;,\n",
       "                                                             &#x27;E&#x27;, &#x27;D&#x27;, &#x27;C&#x27;, &#x27;B&#x27;,\n",
       "                                                             &#x27;A&#x27;, &#x27;AA&#x27;],\n",
       "                                                            [&#x27;Not displayed&#x27;,\n",
       "                                                             &#x27;$0&#x27;,\n",
       "                                                             &#x27;Not employed&#x27;,\n",
       "                                                             &#x27;$1-24,999&#x27;,\n",
       "                                                             &#x27;$75,000-99,999&#x27;,\n",
       "                                                             &#x27;$100,000+&#x27;,\n",
       "                                                             &#x27;$50,000-74,999&#x27;,\n",
       "                                                             &#x27;$25,000-49,999&#x27;]]),\n",
       "                                 [3, 9])])</pre></div></div></div><div class=\"sk-parallel\"><div class=\"sk-parallel-item\"><div class=\"sk-item\"><div class=\"sk-label-container\"><div class=\"sk-label sk-toggleable\"><input class=\"sk-toggleable__control sk-hidden--visually\" id=\"sk-estimator-id-23\" type=\"checkbox\" ><label for=\"sk-estimator-id-23\" class=\"sk-toggleable__label sk-toggleable__label-arrow\">ohe</label><div class=\"sk-toggleable__content\"><pre>[23, 24, 25, 42]</pre></div></div></div><div class=\"sk-serial\"><div class=\"sk-item\"><div class=\"sk-estimator sk-toggleable\"><input class=\"sk-toggleable__control sk-hidden--visually\" id=\"sk-estimator-id-24\" type=\"checkbox\" ><label for=\"sk-estimator-id-24\" class=\"sk-toggleable__label sk-toggleable__label-arrow\">OneHotEncoder</label><div class=\"sk-toggleable__content\"><pre>OneHotEncoder(handle_unknown=&#x27;ignore&#x27;, sparse=False)</pre></div></div></div></div></div></div><div class=\"sk-parallel-item\"><div class=\"sk-item\"><div class=\"sk-label-container\"><div class=\"sk-label sk-toggleable\"><input class=\"sk-toggleable__control sk-hidden--visually\" id=\"sk-estimator-id-25\" type=\"checkbox\" ><label for=\"sk-estimator-id-25\" class=\"sk-toggleable__label sk-toggleable__label-arrow\">ord</label><div class=\"sk-toggleable__content\"><pre>[3, 9]</pre></div></div></div><div class=\"sk-serial\"><div class=\"sk-item\"><div class=\"sk-estimator sk-toggleable\"><input class=\"sk-toggleable__control sk-hidden--visually\" id=\"sk-estimator-id-26\" type=\"checkbox\" ><label for=\"sk-estimator-id-26\" class=\"sk-toggleable__label sk-toggleable__label-arrow\">OrdinalEncoder</label><div class=\"sk-toggleable__content\"><pre>OrdinalEncoder(categories=[[&#x27;Missing&#x27;, &#x27;HR&#x27;, &#x27;E&#x27;, &#x27;D&#x27;, &#x27;C&#x27;, &#x27;B&#x27;, &#x27;A&#x27;, &#x27;AA&#x27;],\n",
       "                           [&#x27;Not displayed&#x27;, &#x27;$0&#x27;, &#x27;Not employed&#x27;, &#x27;$1-24,999&#x27;,\n",
       "                            &#x27;$75,000-99,999&#x27;, &#x27;$100,000+&#x27;, &#x27;$50,000-74,999&#x27;,\n",
       "                            &#x27;$25,000-49,999&#x27;]])</pre></div></div></div></div></div></div><div class=\"sk-parallel-item\"><div class=\"sk-item\"><div class=\"sk-label-container\"><div class=\"sk-label sk-toggleable\"><input class=\"sk-toggleable__control sk-hidden--visually\" id=\"sk-estimator-id-27\" type=\"checkbox\" ><label for=\"sk-estimator-id-27\" class=\"sk-toggleable__label sk-toggleable__label-arrow\">remainder</label><div class=\"sk-toggleable__content\"><pre>[&#x27;ProsperScore&#x27;, &#x27;Term&#x27;, &#x27;BorrowerRate&#x27;, &#x27;ListingCategory (numeric)&#x27;, &#x27;IsBorrowerHomeowner&#x27;, &#x27;CurrentlyInGroup&#x27;, &#x27;OpenRevolvingAccounts&#x27;, &#x27;OpenRevolvingMonthlyPayment&#x27;, &#x27;IncomeVerifiable&#x27;, &#x27;StatedMonthlyIncome&#x27;, &#x27;LoanOriginalAmount&#x27;, &#x27;MonthlyLoanPayment&#x27;, &#x27;LP_CustomerPayments&#x27;, &#x27;LP_CustomerPrincipalPayments&#x27;, &#x27;LP_InterestandFees&#x27;, &#x27;LP_ServiceFees&#x27;, &#x27;LP_CollectionFees&#x27;, &#x27;LP_GrossPrincipalLoss&#x27;, &#x27;LP_NetPrincipalLoss&#x27;, &#x27;Investors&#x27;, &#x27;BorrowerAPR&#x27;, &#x27;CreditScoreRangeLower&#x27;, &#x27;CreditScoreRangeUpper&#x27;, &#x27;TotalCreditLinespast7years&#x27;, &#x27;TotalInquiries&#x27;, &#x27;CurrentDelinquencies&#x27;, &#x27;DelinquenciesLast7Years&#x27;, &#x27;PublicRecordsLast10Years&#x27;, &#x27;EmploymentStatusDuration&#x27;, &#x27;CurrentCreditLines&#x27;, &#x27;OpenCreditLines&#x27;, &#x27;AmountDelinquent&#x27;, &#x27;RevolvingCreditBalance&#x27;, &#x27;BankcardUtilization&#x27;, &#x27;AvailableBankcardCredit&#x27;, &#x27;TradesNeverDelinquent (percentage)&#x27;, &#x27;DebtToIncomeRatio&#x27;]</pre></div></div></div><div class=\"sk-serial\"><div class=\"sk-item\"><div class=\"sk-estimator sk-toggleable\"><input class=\"sk-toggleable__control sk-hidden--visually\" id=\"sk-estimator-id-28\" type=\"checkbox\" ><label for=\"sk-estimator-id-28\" class=\"sk-toggleable__label sk-toggleable__label-arrow\">passthrough</label><div class=\"sk-toggleable__content\"><pre>passthrough</pre></div></div></div></div></div></div></div></div><div class=\"sk-item\"><div class=\"sk-estimator sk-toggleable\"><input class=\"sk-toggleable__control sk-hidden--visually\" id=\"sk-estimator-id-29\" type=\"checkbox\" ><label for=\"sk-estimator-id-29\" class=\"sk-toggleable__label sk-toggleable__label-arrow\">StandardScaler</label><div class=\"sk-toggleable__content\"><pre>StandardScaler()</pre></div></div></div><div class=\"sk-item\"><div class=\"sk-estimator sk-toggleable\"><input class=\"sk-toggleable__control sk-hidden--visually\" id=\"sk-estimator-id-30\" type=\"checkbox\" ><label for=\"sk-estimator-id-30\" class=\"sk-toggleable__label sk-toggleable__label-arrow\">XGBRegressor</label><div class=\"sk-toggleable__content\"><pre>XGBRegressor(base_score=None, booster=None, callbacks=None,\n",
       "             colsample_bylevel=None, colsample_bynode=None,\n",
       "             colsample_bytree=None, early_stopping_rounds=None,\n",
       "             enable_categorical=False, eval_metric=None, feature_types=None,\n",
       "             gamma=None, gpu_id=None, grow_policy=None, importance_type=None,\n",
       "             interaction_constraints=None, learning_rate=None, max_bin=None,\n",
       "             max_cat_threshold=None, max_cat_to_onehot=None,\n",
       "             max_delta_step=None, max_depth=None, max_leaves=None,\n",
       "             min_child_weight=None, missing=nan, monotone_constraints=None,\n",
       "             n_estimators=100, n_jobs=None, num_parallel_tree=None,\n",
       "             predictor=None, random_state=10, ...)</pre></div></div></div></div></div></div></div>"
      ],
      "text/plain": [
       "Pipeline(steps=[('trf1',\n",
       "                 ColumnTransformer(remainder='passthrough',\n",
       "                                   transformers=[('ohe',\n",
       "                                                  OneHotEncoder(handle_unknown='ignore',\n",
       "                                                                sparse=False),\n",
       "                                                  [23, 24, 25, 42]),\n",
       "                                                 ('ord',\n",
       "                                                  OrdinalEncoder(categories=[['Missing',\n",
       "                                                                              'HR',\n",
       "                                                                              'E',\n",
       "                                                                              'D',\n",
       "                                                                              'C',\n",
       "                                                                              'B',\n",
       "                                                                              'A',\n",
       "                                                                              'AA'],\n",
       "                                                                             ['Not '\n",
       "                                                                              'displayed',\n",
       "                                                                              '$0',\n",
       "                                                                              'Not '\n",
       "                                                                              'employed',\n",
       "                                                                              '$1-24,999',\n",
       "                                                                              '$75,000-99,999',\n",
       "                                                                              '$100,000+',\n",
       "                                                                              '$50,000-74,999',\n",
       "                                                                              '$25,000-49,999']]),\n",
       "                                                  [3,...\n",
       "                              feature_types=None, gamma=None, gpu_id=None,\n",
       "                              grow_policy=None, importance_type=None,\n",
       "                              interaction_constraints=None, learning_rate=None,\n",
       "                              max_bin=None, max_cat_threshold=None,\n",
       "                              max_cat_to_onehot=None, max_delta_step=None,\n",
       "                              max_depth=None, max_leaves=None,\n",
       "                              min_child_weight=None, missing=nan,\n",
       "                              monotone_constraints=None, n_estimators=100,\n",
       "                              n_jobs=None, num_parallel_tree=None,\n",
       "                              predictor=None, random_state=10, ...))])"
      ]
     },
     "execution_count": 23,
     "metadata": {},
     "output_type": "execute_result"
    }
   ],
   "source": [
    "pipe_PROI.fit(X_train,yPROI_train)"
   ]
  },
  {
   "cell_type": "code",
   "execution_count": 24,
   "id": "982598d5",
   "metadata": {},
   "outputs": [],
   "source": [
    "yPROI2 = pipe_PROI.predict(X_test)"
   ]
  },
  {
   "cell_type": "code",
   "execution_count": 25,
   "id": "e71a742b",
   "metadata": {},
   "outputs": [],
   "source": [
    "PROI_accuracy = r2_score(yPROI_test, yPROI2)"
   ]
  },
  {
   "cell_type": "code",
   "execution_count": 26,
   "id": "776abe3f",
   "metadata": {},
   "outputs": [
    {
     "data": {
      "text/plain": [
       "0.9999126732352437"
      ]
     },
     "execution_count": 26,
     "metadata": {},
     "output_type": "execute_result"
    }
   ],
   "source": [
    "PROI_accuracy"
   ]
  },
  {
   "cell_type": "markdown",
   "id": "90228f84",
   "metadata": {},
   "source": [
    "**Accuracy for PROI (Preferred Return on Investment) prediction is about 98.07%**"
   ]
  },
  {
   "cell_type": "markdown",
   "id": "281edb48",
   "metadata": {},
   "source": [
    "**Pipeline to predict Credit Risk Status**"
   ]
  },
  {
   "cell_type": "code",
   "execution_count": 42,
   "id": "9ee3a93b",
   "metadata": {},
   "outputs": [],
   "source": [
    "pipex = Pipeline([\n",
    "    ('trf1',trf1),\n",
    "    ('scale', StandardScaler()),\n",
    "    ('clas',GradientBoostingClassifier(max_depth=4))\n",
    "])"
   ]
  },
  {
   "cell_type": "code",
   "execution_count": 43,
   "id": "3dd59036",
   "metadata": {},
   "outputs": [
    {
     "data": {
      "text/html": [
       "<style>#sk-container-id-4 {color: black;background-color: white;}#sk-container-id-4 pre{padding: 0;}#sk-container-id-4 div.sk-toggleable {background-color: white;}#sk-container-id-4 label.sk-toggleable__label {cursor: pointer;display: block;width: 100%;margin-bottom: 0;padding: 0.3em;box-sizing: border-box;text-align: center;}#sk-container-id-4 label.sk-toggleable__label-arrow:before {content: \"▸\";float: left;margin-right: 0.25em;color: #696969;}#sk-container-id-4 label.sk-toggleable__label-arrow:hover:before {color: black;}#sk-container-id-4 div.sk-estimator:hover label.sk-toggleable__label-arrow:before {color: black;}#sk-container-id-4 div.sk-toggleable__content {max-height: 0;max-width: 0;overflow: hidden;text-align: left;background-color: #f0f8ff;}#sk-container-id-4 div.sk-toggleable__content pre {margin: 0.2em;color: black;border-radius: 0.25em;background-color: #f0f8ff;}#sk-container-id-4 input.sk-toggleable__control:checked~div.sk-toggleable__content {max-height: 200px;max-width: 100%;overflow: auto;}#sk-container-id-4 input.sk-toggleable__control:checked~label.sk-toggleable__label-arrow:before {content: \"▾\";}#sk-container-id-4 div.sk-estimator input.sk-toggleable__control:checked~label.sk-toggleable__label {background-color: #d4ebff;}#sk-container-id-4 div.sk-label input.sk-toggleable__control:checked~label.sk-toggleable__label {background-color: #d4ebff;}#sk-container-id-4 input.sk-hidden--visually {border: 0;clip: rect(1px 1px 1px 1px);clip: rect(1px, 1px, 1px, 1px);height: 1px;margin: -1px;overflow: hidden;padding: 0;position: absolute;width: 1px;}#sk-container-id-4 div.sk-estimator {font-family: monospace;background-color: #f0f8ff;border: 1px dotted black;border-radius: 0.25em;box-sizing: border-box;margin-bottom: 0.5em;}#sk-container-id-4 div.sk-estimator:hover {background-color: #d4ebff;}#sk-container-id-4 div.sk-parallel-item::after {content: \"\";width: 100%;border-bottom: 1px solid gray;flex-grow: 1;}#sk-container-id-4 div.sk-label:hover label.sk-toggleable__label {background-color: #d4ebff;}#sk-container-id-4 div.sk-serial::before {content: \"\";position: absolute;border-left: 1px solid gray;box-sizing: border-box;top: 0;bottom: 0;left: 50%;z-index: 0;}#sk-container-id-4 div.sk-serial {display: flex;flex-direction: column;align-items: center;background-color: white;padding-right: 0.2em;padding-left: 0.2em;position: relative;}#sk-container-id-4 div.sk-item {position: relative;z-index: 1;}#sk-container-id-4 div.sk-parallel {display: flex;align-items: stretch;justify-content: center;background-color: white;position: relative;}#sk-container-id-4 div.sk-item::before, #sk-container-id-4 div.sk-parallel-item::before {content: \"\";position: absolute;border-left: 1px solid gray;box-sizing: border-box;top: 0;bottom: 0;left: 50%;z-index: -1;}#sk-container-id-4 div.sk-parallel-item {display: flex;flex-direction: column;z-index: 1;position: relative;background-color: white;}#sk-container-id-4 div.sk-parallel-item:first-child::after {align-self: flex-end;width: 50%;}#sk-container-id-4 div.sk-parallel-item:last-child::after {align-self: flex-start;width: 50%;}#sk-container-id-4 div.sk-parallel-item:only-child::after {width: 0;}#sk-container-id-4 div.sk-dashed-wrapped {border: 1px dashed gray;margin: 0 0.4em 0.5em 0.4em;box-sizing: border-box;padding-bottom: 0.4em;background-color: white;}#sk-container-id-4 div.sk-label label {font-family: monospace;font-weight: bold;display: inline-block;line-height: 1.2em;}#sk-container-id-4 div.sk-label-container {text-align: center;}#sk-container-id-4 div.sk-container {/* jupyter's `normalize.less` sets `[hidden] { display: none; }` but bootstrap.min.css set `[hidden] { display: none !important; }` so we also need the `!important` here to be able to override the default hidden behavior on the sphinx rendered scikit-learn.org. See: https://github.com/scikit-learn/scikit-learn/issues/21755 */display: inline-block !important;position: relative;}#sk-container-id-4 div.sk-text-repr-fallback {display: none;}</style><div id=\"sk-container-id-4\" class=\"sk-top-container\"><div class=\"sk-text-repr-fallback\"><pre>Pipeline(steps=[(&#x27;trf1&#x27;,\n",
       "                 ColumnTransformer(remainder=&#x27;passthrough&#x27;,\n",
       "                                   transformers=[(&#x27;ohe&#x27;,\n",
       "                                                  OneHotEncoder(handle_unknown=&#x27;ignore&#x27;,\n",
       "                                                                sparse=False),\n",
       "                                                  [23, 24, 25, 42]),\n",
       "                                                 (&#x27;ord&#x27;,\n",
       "                                                  OrdinalEncoder(categories=[[&#x27;Missing&#x27;,\n",
       "                                                                              &#x27;HR&#x27;,\n",
       "                                                                              &#x27;E&#x27;,\n",
       "                                                                              &#x27;D&#x27;,\n",
       "                                                                              &#x27;C&#x27;,\n",
       "                                                                              &#x27;B&#x27;,\n",
       "                                                                              &#x27;A&#x27;,\n",
       "                                                                              &#x27;AA&#x27;],\n",
       "                                                                             [&#x27;Not &#x27;\n",
       "                                                                              &#x27;displayed&#x27;,\n",
       "                                                                              &#x27;$0&#x27;,\n",
       "                                                                              &#x27;Not &#x27;\n",
       "                                                                              &#x27;employed&#x27;,\n",
       "                                                                              &#x27;$1-24,999&#x27;,\n",
       "                                                                              &#x27;$75,000-99,999&#x27;,\n",
       "                                                                              &#x27;$100,000+&#x27;,\n",
       "                                                                              &#x27;$50,000-74,999&#x27;,\n",
       "                                                                              &#x27;$25,000-49,999&#x27;]]),\n",
       "                                                  [3, 9])])),\n",
       "                (&#x27;scale&#x27;, StandardScaler()),\n",
       "                (&#x27;clas&#x27;, GradientBoostingClassifier(max_depth=4))])</pre><b>In a Jupyter environment, please rerun this cell to show the HTML representation or trust the notebook. <br />On GitHub, the HTML representation is unable to render, please try loading this page with nbviewer.org.</b></div><div class=\"sk-container\" hidden><div class=\"sk-item sk-dashed-wrapped\"><div class=\"sk-label-container\"><div class=\"sk-label sk-toggleable\"><input class=\"sk-toggleable__control sk-hidden--visually\" id=\"sk-estimator-id-31\" type=\"checkbox\" ><label for=\"sk-estimator-id-31\" class=\"sk-toggleable__label sk-toggleable__label-arrow\">Pipeline</label><div class=\"sk-toggleable__content\"><pre>Pipeline(steps=[(&#x27;trf1&#x27;,\n",
       "                 ColumnTransformer(remainder=&#x27;passthrough&#x27;,\n",
       "                                   transformers=[(&#x27;ohe&#x27;,\n",
       "                                                  OneHotEncoder(handle_unknown=&#x27;ignore&#x27;,\n",
       "                                                                sparse=False),\n",
       "                                                  [23, 24, 25, 42]),\n",
       "                                                 (&#x27;ord&#x27;,\n",
       "                                                  OrdinalEncoder(categories=[[&#x27;Missing&#x27;,\n",
       "                                                                              &#x27;HR&#x27;,\n",
       "                                                                              &#x27;E&#x27;,\n",
       "                                                                              &#x27;D&#x27;,\n",
       "                                                                              &#x27;C&#x27;,\n",
       "                                                                              &#x27;B&#x27;,\n",
       "                                                                              &#x27;A&#x27;,\n",
       "                                                                              &#x27;AA&#x27;],\n",
       "                                                                             [&#x27;Not &#x27;\n",
       "                                                                              &#x27;displayed&#x27;,\n",
       "                                                                              &#x27;$0&#x27;,\n",
       "                                                                              &#x27;Not &#x27;\n",
       "                                                                              &#x27;employed&#x27;,\n",
       "                                                                              &#x27;$1-24,999&#x27;,\n",
       "                                                                              &#x27;$75,000-99,999&#x27;,\n",
       "                                                                              &#x27;$100,000+&#x27;,\n",
       "                                                                              &#x27;$50,000-74,999&#x27;,\n",
       "                                                                              &#x27;$25,000-49,999&#x27;]]),\n",
       "                                                  [3, 9])])),\n",
       "                (&#x27;scale&#x27;, StandardScaler()),\n",
       "                (&#x27;clas&#x27;, GradientBoostingClassifier(max_depth=4))])</pre></div></div></div><div class=\"sk-serial\"><div class=\"sk-item sk-dashed-wrapped\"><div class=\"sk-label-container\"><div class=\"sk-label sk-toggleable\"><input class=\"sk-toggleable__control sk-hidden--visually\" id=\"sk-estimator-id-32\" type=\"checkbox\" ><label for=\"sk-estimator-id-32\" class=\"sk-toggleable__label sk-toggleable__label-arrow\">trf1: ColumnTransformer</label><div class=\"sk-toggleable__content\"><pre>ColumnTransformer(remainder=&#x27;passthrough&#x27;,\n",
       "                  transformers=[(&#x27;ohe&#x27;,\n",
       "                                 OneHotEncoder(handle_unknown=&#x27;ignore&#x27;,\n",
       "                                               sparse=False),\n",
       "                                 [23, 24, 25, 42]),\n",
       "                                (&#x27;ord&#x27;,\n",
       "                                 OrdinalEncoder(categories=[[&#x27;Missing&#x27;, &#x27;HR&#x27;,\n",
       "                                                             &#x27;E&#x27;, &#x27;D&#x27;, &#x27;C&#x27;, &#x27;B&#x27;,\n",
       "                                                             &#x27;A&#x27;, &#x27;AA&#x27;],\n",
       "                                                            [&#x27;Not displayed&#x27;,\n",
       "                                                             &#x27;$0&#x27;,\n",
       "                                                             &#x27;Not employed&#x27;,\n",
       "                                                             &#x27;$1-24,999&#x27;,\n",
       "                                                             &#x27;$75,000-99,999&#x27;,\n",
       "                                                             &#x27;$100,000+&#x27;,\n",
       "                                                             &#x27;$50,000-74,999&#x27;,\n",
       "                                                             &#x27;$25,000-49,999&#x27;]]),\n",
       "                                 [3, 9])])</pre></div></div></div><div class=\"sk-parallel\"><div class=\"sk-parallel-item\"><div class=\"sk-item\"><div class=\"sk-label-container\"><div class=\"sk-label sk-toggleable\"><input class=\"sk-toggleable__control sk-hidden--visually\" id=\"sk-estimator-id-33\" type=\"checkbox\" ><label for=\"sk-estimator-id-33\" class=\"sk-toggleable__label sk-toggleable__label-arrow\">ohe</label><div class=\"sk-toggleable__content\"><pre>[23, 24, 25, 42]</pre></div></div></div><div class=\"sk-serial\"><div class=\"sk-item\"><div class=\"sk-estimator sk-toggleable\"><input class=\"sk-toggleable__control sk-hidden--visually\" id=\"sk-estimator-id-34\" type=\"checkbox\" ><label for=\"sk-estimator-id-34\" class=\"sk-toggleable__label sk-toggleable__label-arrow\">OneHotEncoder</label><div class=\"sk-toggleable__content\"><pre>OneHotEncoder(handle_unknown=&#x27;ignore&#x27;, sparse=False)</pre></div></div></div></div></div></div><div class=\"sk-parallel-item\"><div class=\"sk-item\"><div class=\"sk-label-container\"><div class=\"sk-label sk-toggleable\"><input class=\"sk-toggleable__control sk-hidden--visually\" id=\"sk-estimator-id-35\" type=\"checkbox\" ><label for=\"sk-estimator-id-35\" class=\"sk-toggleable__label sk-toggleable__label-arrow\">ord</label><div class=\"sk-toggleable__content\"><pre>[3, 9]</pre></div></div></div><div class=\"sk-serial\"><div class=\"sk-item\"><div class=\"sk-estimator sk-toggleable\"><input class=\"sk-toggleable__control sk-hidden--visually\" id=\"sk-estimator-id-36\" type=\"checkbox\" ><label for=\"sk-estimator-id-36\" class=\"sk-toggleable__label sk-toggleable__label-arrow\">OrdinalEncoder</label><div class=\"sk-toggleable__content\"><pre>OrdinalEncoder(categories=[[&#x27;Missing&#x27;, &#x27;HR&#x27;, &#x27;E&#x27;, &#x27;D&#x27;, &#x27;C&#x27;, &#x27;B&#x27;, &#x27;A&#x27;, &#x27;AA&#x27;],\n",
       "                           [&#x27;Not displayed&#x27;, &#x27;$0&#x27;, &#x27;Not employed&#x27;, &#x27;$1-24,999&#x27;,\n",
       "                            &#x27;$75,000-99,999&#x27;, &#x27;$100,000+&#x27;, &#x27;$50,000-74,999&#x27;,\n",
       "                            &#x27;$25,000-49,999&#x27;]])</pre></div></div></div></div></div></div><div class=\"sk-parallel-item\"><div class=\"sk-item\"><div class=\"sk-label-container\"><div class=\"sk-label sk-toggleable\"><input class=\"sk-toggleable__control sk-hidden--visually\" id=\"sk-estimator-id-37\" type=\"checkbox\" ><label for=\"sk-estimator-id-37\" class=\"sk-toggleable__label sk-toggleable__label-arrow\">remainder</label><div class=\"sk-toggleable__content\"><pre>[&#x27;ProsperScore&#x27;, &#x27;Term&#x27;, &#x27;BorrowerRate&#x27;, &#x27;ListingCategory (numeric)&#x27;, &#x27;IsBorrowerHomeowner&#x27;, &#x27;CurrentlyInGroup&#x27;, &#x27;OpenRevolvingAccounts&#x27;, &#x27;OpenRevolvingMonthlyPayment&#x27;, &#x27;IncomeVerifiable&#x27;, &#x27;StatedMonthlyIncome&#x27;, &#x27;LoanOriginalAmount&#x27;, &#x27;MonthlyLoanPayment&#x27;, &#x27;LP_CustomerPayments&#x27;, &#x27;LP_CustomerPrincipalPayments&#x27;, &#x27;LP_InterestandFees&#x27;, &#x27;LP_ServiceFees&#x27;, &#x27;LP_CollectionFees&#x27;, &#x27;LP_GrossPrincipalLoss&#x27;, &#x27;LP_NetPrincipalLoss&#x27;, &#x27;Investors&#x27;, &#x27;BorrowerAPR&#x27;, &#x27;CreditScoreRangeLower&#x27;, &#x27;CreditScoreRangeUpper&#x27;, &#x27;TotalCreditLinespast7years&#x27;, &#x27;TotalInquiries&#x27;, &#x27;CurrentDelinquencies&#x27;, &#x27;DelinquenciesLast7Years&#x27;, &#x27;PublicRecordsLast10Years&#x27;, &#x27;EmploymentStatusDuration&#x27;, &#x27;CurrentCreditLines&#x27;, &#x27;OpenCreditLines&#x27;, &#x27;AmountDelinquent&#x27;, &#x27;RevolvingCreditBalance&#x27;, &#x27;BankcardUtilization&#x27;, &#x27;AvailableBankcardCredit&#x27;, &#x27;TradesNeverDelinquent (percentage)&#x27;, &#x27;DebtToIncomeRatio&#x27;]</pre></div></div></div><div class=\"sk-serial\"><div class=\"sk-item\"><div class=\"sk-estimator sk-toggleable\"><input class=\"sk-toggleable__control sk-hidden--visually\" id=\"sk-estimator-id-38\" type=\"checkbox\" ><label for=\"sk-estimator-id-38\" class=\"sk-toggleable__label sk-toggleable__label-arrow\">passthrough</label><div class=\"sk-toggleable__content\"><pre>passthrough</pre></div></div></div></div></div></div></div></div><div class=\"sk-item\"><div class=\"sk-estimator sk-toggleable\"><input class=\"sk-toggleable__control sk-hidden--visually\" id=\"sk-estimator-id-39\" type=\"checkbox\" ><label for=\"sk-estimator-id-39\" class=\"sk-toggleable__label sk-toggleable__label-arrow\">StandardScaler</label><div class=\"sk-toggleable__content\"><pre>StandardScaler()</pre></div></div></div><div class=\"sk-item\"><div class=\"sk-estimator sk-toggleable\"><input class=\"sk-toggleable__control sk-hidden--visually\" id=\"sk-estimator-id-40\" type=\"checkbox\" ><label for=\"sk-estimator-id-40\" class=\"sk-toggleable__label sk-toggleable__label-arrow\">GradientBoostingClassifier</label><div class=\"sk-toggleable__content\"><pre>GradientBoostingClassifier(max_depth=4)</pre></div></div></div></div></div></div></div>"
      ],
      "text/plain": [
       "Pipeline(steps=[('trf1',\n",
       "                 ColumnTransformer(remainder='passthrough',\n",
       "                                   transformers=[('ohe',\n",
       "                                                  OneHotEncoder(handle_unknown='ignore',\n",
       "                                                                sparse=False),\n",
       "                                                  [23, 24, 25, 42]),\n",
       "                                                 ('ord',\n",
       "                                                  OrdinalEncoder(categories=[['Missing',\n",
       "                                                                              'HR',\n",
       "                                                                              'E',\n",
       "                                                                              'D',\n",
       "                                                                              'C',\n",
       "                                                                              'B',\n",
       "                                                                              'A',\n",
       "                                                                              'AA'],\n",
       "                                                                             ['Not '\n",
       "                                                                              'displayed',\n",
       "                                                                              '$0',\n",
       "                                                                              'Not '\n",
       "                                                                              'employed',\n",
       "                                                                              '$1-24,999',\n",
       "                                                                              '$75,000-99,999',\n",
       "                                                                              '$100,000+',\n",
       "                                                                              '$50,000-74,999',\n",
       "                                                                              '$25,000-49,999']]),\n",
       "                                                  [3, 9])])),\n",
       "                ('scale', StandardScaler()),\n",
       "                ('clas', GradientBoostingClassifier(max_depth=4))])"
      ]
     },
     "execution_count": 43,
     "metadata": {},
     "output_type": "execute_result"
    }
   ],
   "source": [
    "pipex.fit(X_train,yRisk_train)"
   ]
  },
  {
   "cell_type": "code",
   "execution_count": 44,
   "id": "2df4c4c8",
   "metadata": {},
   "outputs": [],
   "source": [
    "yRisk2 = pipex.predict(X_test)"
   ]
  },
  {
   "cell_type": "code",
   "execution_count": 46,
   "id": "3c7d607f",
   "metadata": {},
   "outputs": [],
   "source": [
    "Risk_accuracy = accuracy_score(yRisk_test, yRisk2)"
   ]
  },
  {
   "cell_type": "code",
   "execution_count": 47,
   "id": "d55f90b8",
   "metadata": {},
   "outputs": [
    {
     "data": {
      "text/plain": [
       "0.9807895412896412"
      ]
     },
     "execution_count": 47,
     "metadata": {},
     "output_type": "execute_result"
    }
   ],
   "source": [
    "Risk_accuracy"
   ]
  },
  {
   "cell_type": "markdown",
   "id": "a220ae07",
   "metadata": {},
   "source": [
    "**Accuracy for risk prediction is about 98.07%**"
   ]
  },
  {
   "cell_type": "markdown",
   "id": "0d7d0056",
   "metadata": {},
   "source": [
    "## 4. Export the pipelines"
   ]
  },
  {
   "cell_type": "code",
   "execution_count": 27,
   "id": "61772920",
   "metadata": {},
   "outputs": [],
   "source": [
    "pickle.dump(pipe_EMI,open('pipeEMI.pkl','wb'))\n",
    "pickle.dump(pipe_ELA,open('pipeELA.pkl','wb'))\n",
    "pickle.dump(pipe_PROI,open('pipePROI.pkl','wb'))"
   ]
  },
  {
   "cell_type": "code",
   "execution_count": 45,
   "id": "76463844",
   "metadata": {},
   "outputs": [],
   "source": [
    "pickle.dump(pipex,open('pipenew2.pkl','wb'))"
   ]
  }
 ],
 "metadata": {
  "kernelspec": {
   "display_name": "Python 3",
   "language": "python",
   "name": "python3"
  },
  "language_info": {
   "codemirror_mode": {
    "name": "ipython",
    "version": 3
   },
   "file_extension": ".py",
   "mimetype": "text/x-python",
   "name": "python",
   "nbconvert_exporter": "python",
   "pygments_lexer": "ipython3",
   "version": "3.9.0"
  }
 },
 "nbformat": 4,
 "nbformat_minor": 5
}
